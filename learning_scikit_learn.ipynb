{
  "nbformat": 4,
  "nbformat_minor": 0,
  "metadata": {
    "kernelspec": {
      "display_name": "Python 3",
      "language": "python",
      "name": "python3"
    },
    "language_info": {
      "codemirror_mode": {
        "name": "ipython",
        "version": 3
      },
      "file_extension": ".py",
      "mimetype": "text/x-python",
      "name": "python",
      "nbconvert_exporter": "python",
      "pygments_lexer": "ipython3",
      "version": "3.7.1"
    },
    "colab": {
      "provenance": [],
      "machine_shape": "hm",
      "include_colab_link": true
    },
    "accelerator": "TPU",
    "gpuClass": "standard"
  },
  "cells": [
    {
      "cell_type": "markdown",
      "metadata": {
        "id": "view-in-github",
        "colab_type": "text"
      },
      "source": [
        "<a href=\"https://colab.research.google.com/github/Nanoth-T/Learning-Machine-Learning/blob/main/learning_scikit_learn.ipynb\" target=\"_parent\"><img src=\"https://colab.research.google.com/assets/colab-badge.svg\" alt=\"Open In Colab\"/></a>"
      ]
    },
    {
      "cell_type": "code",
      "metadata": {
        "id": "cP5Dhir9nnvu"
      },
      "source": [
        "import pandas as pd\n",
        "import numpy as np\n",
        "import matplotlib.pyplot as plt"
      ],
      "execution_count": null,
      "outputs": []
    },
    {
      "cell_type": "markdown",
      "metadata": {
        "id": "TPSREw0H0Jxf"
      },
      "source": [
        "# **KMEANS CLUSTERING**"
      ]
    },
    {
      "cell_type": "code",
      "metadata": {
        "id": "It-BR_Rksejn"
      },
      "source": [
        "#Load Dataset from scikit datasets\n",
        "#from sklearn import datasets"
      ],
      "execution_count": null,
      "outputs": []
    },
    {
      "cell_type": "markdown",
      "metadata": {
        "id": "F5uc0NhlDJ_u"
      },
      "source": [
        "***Make_Blob Data***"
      ]
    },
    {
      "cell_type": "code",
      "metadata": {
        "id": "LO3_iN2DDJA_"
      },
      "source": [
        "from sklearn.datasets import make_blobs"
      ],
      "execution_count": null,
      "outputs": []
    },
    {
      "cell_type": "code",
      "metadata": {
        "id": "Bi5cRdkqDQFv"
      },
      "source": [
        "X, Y = make_blobs(n_samples=100, centers=3, n_features=2,random_state=10,cluster_std=.5,)"
      ],
      "execution_count": null,
      "outputs": []
    },
    {
      "cell_type": "code",
      "metadata": {
        "id": "17ZSM6l_DvB5",
        "colab": {
          "base_uri": "https://localhost:8080/"
        },
        "outputId": "87bc9726-1c7c-4308-a4c9-c60bb7a03d17"
      },
      "source": [
        "Y.shape"
      ],
      "execution_count": null,
      "outputs": [
        {
          "output_type": "execute_result",
          "data": {
            "text/plain": [
              "(100,)"
            ]
          },
          "metadata": {},
          "execution_count": 73
        }
      ]
    },
    {
      "cell_type": "code",
      "metadata": {
        "id": "aQb_p2IyGJ3K",
        "colab": {
          "base_uri": "https://localhost:8080/",
          "height": 447
        },
        "outputId": "9b42a455-0bd7-4695-a2a6-ba8080216d55"
      },
      "source": [
        "plt.plot(X[:,0],X[:,1],'o')"
      ],
      "execution_count": null,
      "outputs": [
        {
          "output_type": "execute_result",
          "data": {
            "text/plain": [
              "[<matplotlib.lines.Line2D at 0x7faee151c9a0>]"
            ]
          },
          "metadata": {},
          "execution_count": 74
        },
        {
          "output_type": "display_data",
          "data": {
            "text/plain": [
              "<Figure size 640x480 with 1 Axes>"
            ],
            "image/png": "[encoded data removed]"
          },
          "metadata": {}
        }
      ]
    },
    {
      "cell_type": "markdown",
      "metadata": {
        "id": "wWZpmcSSEIdv"
      },
      "source": [
        "***Model Construction***"
      ]
    },
    {
      "cell_type": "code",
      "metadata": {
        "id": "IcBcE2H1vQC9"
      },
      "source": [
        "# Model Construction\n",
        "from sklearn.cluster import KMeans"
      ],
      "execution_count": null,
      "outputs": []
    },
    {
      "cell_type": "code",
      "metadata": {
        "id": "Onf-0sbTwO0d"
      },
      "source": [
        "kmeans=KMeans(n_clusters=3,init='random',n_init='auto',)"
      ],
      "execution_count": null,
      "outputs": []
    },
    {
      "cell_type": "code",
      "metadata": {
        "id": "z6C3OpAR68__",
        "colab": {
          "base_uri": "https://localhost:8080/",
          "height": 75
        },
        "outputId": "22c0c244-b6d5-417c-dd82-262e5cb15bf0"
      },
      "source": [
        "# kmeans=KMeans()\n",
        "# para={'n_clusters': 5}\n",
        "# kmeans.set_params(**para)"
      ],
      "execution_count": null,
      "outputs": [
        {
          "output_type": "execute_result",
          "data": {
            "text/plain": [
              "KMeans(n_clusters=5)"
            ],
            "text/html": [
              "<style>#sk-container-id-2 {color: black;background-color: white;}#sk-container-id-2 pre{padding: 0;}#sk-container-id-2 div.sk-toggleable {background-color: white;}#sk-container-id-2 label.sk-toggleable__label {cursor: pointer;display: block;width: 100%;margin-bottom: 0;padding: 0.3em;box-sizing: border-box;text-align: center;}#sk-container-id-2 label.sk-toggleable__label-arrow:before {content: \"▸\";float: left;margin-right: 0.25em;color: #696969;}#sk-container-id-2 label.sk-toggleable__label-arrow:hover:before {color: black;}#sk-container-id-2 div.sk-estimator:hover label.sk-toggleable__label-arrow:before {color: black;}#sk-container-id-2 div.sk-toggleable__content {max-height: 0;max-width: 0;overflow: hidden;text-align: left;background-color: #f0f8ff;}#sk-container-id-2 div.sk-toggleable__content pre {margin: 0.2em;color: black;border-radius: 0.25em;background-color: #f0f8ff;}#sk-container-id-2 input.sk-toggleable__control:checked~div.sk-toggleable__content {max-height: 200px;max-width: 100%;overflow: auto;}#sk-container-id-2 input.sk-toggleable__control:checked~label.sk-toggleable__label-arrow:before {content: \"▾\";}#sk-container-id-2 div.sk-estimator input.sk-toggleable__control:checked~label.sk-toggleable__label {background-color: #d4ebff;}#sk-container-id-2 div.sk-label input.sk-toggleable__control:checked~label.sk-toggleable__label {background-color: #d4ebff;}#sk-container-id-2 input.sk-hidden--visually {border: 0;clip: rect(1px 1px 1px 1px);clip: rect(1px, 1px, 1px, 1px);height: 1px;margin: -1px;overflow: hidden;padding: 0;position: absolute;width: 1px;}#sk-container-id-2 div.sk-estimator {font-family: monospace;background-color: #f0f8ff;border: 1px dotted black;border-radius: 0.25em;box-sizing: border-box;margin-bottom: 0.5em;}#sk-container-id-2 div.sk-estimator:hover {background-color: #d4ebff;}#sk-container-id-2 div.sk-parallel-item::after {content: \"\";width: 100%;border-bottom: 1px solid gray;flex-grow: 1;}#sk-container-id-2 div.sk-label:hover label.sk-toggleable__label {background-color: #d4ebff;}#sk-container-id-2 div.sk-serial::before {content: \"\";position: absolute;border-left: 1px solid gray;box-sizing: border-box;top: 0;bottom: 0;left: 50%;z-index: 0;}#sk-container-id-2 div.sk-serial {display: flex;flex-direction: column;align-items: center;background-color: white;padding-right: 0.2em;padding-left: 0.2em;position: relative;}#sk-container-id-2 div.sk-item {position: relative;z-index: 1;}#sk-container-id-2 div.sk-parallel {display: flex;align-items: stretch;justify-content: center;background-color: white;position: relative;}#sk-container-id-2 div.sk-item::before, #sk-container-id-2 div.sk-parallel-item::before {content: \"\";position: absolute;border-left: 1px solid gray;box-sizing: border-box;top: 0;bottom: 0;left: 50%;z-index: -1;}#sk-container-id-2 div.sk-parallel-item {display: flex;flex-direction: column;z-index: 1;position: relative;background-color: white;}#sk-container-id-2 div.sk-parallel-item:first-child::after {align-self: flex-end;width: 50%;}#sk-container-id-2 div.sk-parallel-item:last-child::after {align-self: flex-start;width: 50%;}#sk-container-id-2 div.sk-parallel-item:only-child::after {width: 0;}#sk-container-id-2 div.sk-dashed-wrapped {border: 1px dashed gray;margin: 0 0.4em 0.5em 0.4em;box-sizing: border-box;padding-bottom: 0.4em;background-color: white;}#sk-container-id-2 div.sk-label label {font-family: monospace;font-weight: bold;display: inline-block;line-height: 1.2em;}#sk-container-id-2 div.sk-label-container {text-align: center;}#sk-container-id-2 div.sk-container {/* jupyter's `normalize.less` sets `[hidden] { display: none; }` but bootstrap.min.css set `[hidden] { display: none !important; }` so we also need the `!important` here to be able to override the default hidden behavior on the sphinx rendered scikit-learn.org. See: https://github.com/scikit-learn/scikit-learn/issues/21755 */display: inline-block !important;position: relative;}#sk-container-id-2 div.sk-text-repr-fallback {display: none;}</style><div id=\"sk-container-id-2\" class=\"sk-top-container\"><div class=\"sk-text-repr-fallback\"><pre>KMeans(n_clusters=5)</pre><b>In a Jupyter environment, please rerun this cell to show the HTML representation or trust the notebook. <br />On GitHub, the HTML representation is unable to render, please try loading this page with nbviewer.org.</b></div><div class=\"sk-container\" hidden><div class=\"sk-item\"><div class=\"sk-estimator sk-toggleable\"><input class=\"sk-toggleable__control sk-hidden--visually\" id=\"sk-estimator-id-2\" type=\"checkbox\" checked><label for=\"sk-estimator-id-2\" class=\"sk-toggleable__label sk-toggleable__label-arrow\">KMeans</label><div class=\"sk-toggleable__content\"><pre>KMeans(n_clusters=5)</pre></div></div></div></div></div>"
            ]
          },
          "metadata": {},
          "execution_count": 85
        }
      ]
    },
    {
      "cell_type": "code",
      "metadata": {
        "id": "Csf9Zmkw6uUe",
        "colab": {
          "base_uri": "https://localhost:8080/"
        },
        "outputId": "3effef64-721b-4ea3-8fce-50b1b3a6f135"
      },
      "source": [
        "kmeans.get_params()"
      ],
      "execution_count": null,
      "outputs": [
        {
          "output_type": "execute_result",
          "data": {
            "text/plain": [
              "{'algorithm': 'lloyd',\n",
              " 'copy_x': True,\n",
              " 'init': 'random',\n",
              " 'max_iter': 300,\n",
              " 'n_clusters': 3,\n",
              " 'n_init': 'auto',\n",
              " 'random_state': None,\n",
              " 'tol': 0.0001,\n",
              " 'verbose': 0}"
            ]
          },
          "metadata": {},
          "execution_count": 110
        }
      ]
    },
    {
      "cell_type": "code",
      "metadata": {
        "id": "3yr6omYnxVou"
      },
      "source": [
        "kmeans.fit(X,);"
      ],
      "execution_count": null,
      "outputs": []
    },
    {
      "cell_type": "code",
      "metadata": {
        "id": "VDkVcNvMxl3u",
        "colab": {
          "base_uri": "https://localhost:8080/"
        },
        "outputId": "294d1169-987e-4758-f59e-790478b85a86"
      },
      "source": [
        "# Attributes of Kmeans Model\n",
        "kmeans.cluster_centers_"
      ],
      "execution_count": null,
      "outputs": [
        {
          "output_type": "execute_result",
          "data": {
            "text/plain": [
              "array([[ 0.02967619, -5.48424225],\n",
              "       [ 2.75673593,  4.91724093],\n",
              "       [ 5.52237988, -9.563923  ]])"
            ]
          },
          "metadata": {},
          "execution_count": 112
        }
      ]
    },
    {
      "cell_type": "code",
      "metadata": {
        "id": "MrBhgz4u1PRY",
        "colab": {
          "base_uri": "https://localhost:8080/"
        },
        "outputId": "3644e299-a817-441e-acc0-152fc67726f8"
      },
      "source": [
        "kmeans.labels_"
      ],
      "execution_count": null,
      "outputs": [
        {
          "output_type": "execute_result",
          "data": {
            "text/plain": [
              "array([0, 0, 1, 2, 1, 1, 2, 0, 1, 2, 2, 1, 1, 0, 0, 1, 2, 1, 2, 1, 2, 0,\n",
              "       1, 0, 2, 1, 1, 1, 1, 2, 0, 1, 1, 2, 0, 0, 0, 1, 1, 1, 0, 2, 0, 0,\n",
              "       1, 2, 2, 2, 0, 2, 1, 0, 2, 2, 0, 2, 1, 0, 2, 2, 1, 1, 0, 0, 0, 2,\n",
              "       2, 0, 0, 0, 1, 2, 1, 1, 0, 1, 1, 0, 2, 2, 2, 1, 2, 1, 0, 1, 0, 2,\n",
              "       0, 0, 2, 2, 2, 0, 0, 0, 1, 2, 2, 2], dtype=int32)"
            ]
          },
          "metadata": {},
          "execution_count": 113
        }
      ]
    },
    {
      "cell_type": "code",
      "metadata": {
        "id": "yIhSTxnE1UT2",
        "colab": {
          "base_uri": "https://localhost:8080/"
        },
        "outputId": "7019e030-b87f-4da4-cbdf-517f1d546c68"
      },
      "source": [
        "kmeans.inertia_  # E2 error"
      ],
      "execution_count": null,
      "outputs": [
        {
          "output_type": "execute_result",
          "data": {
            "text/plain": [
              "46.5914715502536"
            ]
          },
          "metadata": {},
          "execution_count": 114
        }
      ]
    },
    {
      "cell_type": "code",
      "metadata": {
        "id": "sBvQin-T1rCW",
        "colab": {
          "base_uri": "https://localhost:8080/"
        },
        "outputId": "63198d7c-f23d-4d92-846d-ff9d9728015d"
      },
      "source": [
        "kmeans.n_iter_"
      ],
      "execution_count": null,
      "outputs": [
        {
          "output_type": "execute_result",
          "data": {
            "text/plain": [
              "2"
            ]
          },
          "metadata": {},
          "execution_count": 107
        }
      ]
    },
    {
      "cell_type": "markdown",
      "metadata": {
        "id": "fLBJR4XzEdBY"
      },
      "source": [
        "***Model Deployment***"
      ]
    },
    {
      "cell_type": "code",
      "metadata": {
        "id": "W25KCRhJ2yee",
        "colab": {
          "base_uri": "https://localhost:8080/"
        },
        "outputId": "fb2310d9-1b0c-4069-a87a-1ea4d05a4f98"
      },
      "source": [
        "# Predict\n",
        "kmeans.predict(X)"
      ],
      "execution_count": null,
      "outputs": [
        {
          "output_type": "execute_result",
          "data": {
            "text/plain": [
              "array([0, 0, 2, 1, 2, 2, 1, 0, 2, 1, 1, 2, 2, 0, 0, 2, 1, 2, 1, 2, 1, 0,\n",
              "       2, 0, 1, 2, 2, 2, 2, 1, 0, 2, 2, 1, 0, 0, 0, 2, 2, 2, 0, 1, 0, 0,\n",
              "       2, 1, 1, 1, 0, 1, 2, 0, 1, 1, 0, 1, 2, 0, 1, 1, 2, 2, 0, 0, 0, 1,\n",
              "       1, 0, 0, 0, 2, 1, 2, 2, 0, 2, 2, 0, 1, 1, 1, 2, 1, 2, 0, 2, 0, 1,\n",
              "       0, 0, 1, 1, 1, 0, 0, 0, 2, 1, 1, 1], dtype=int32)"
            ]
          },
          "metadata": {},
          "execution_count": 28
        }
      ]
    },
    {
      "cell_type": "code",
      "metadata": {
        "id": "VFCLb8BA5OqA",
        "colab": {
          "base_uri": "https://localhost:8080/"
        },
        "outputId": "edf086c2-254b-476d-fb19-c8a49053eccf"
      },
      "source": [
        "# Compute Cluster Distance\n",
        "kmeans.transform(X)"
      ],
      "execution_count": null,
      "outputs": [
        {
          "output_type": "execute_result",
          "data": {
            "text/plain": [
              "array([[ 1.3559957 ,  7.54134567, 11.70050793],\n",
              "       [ 0.35423673,  6.84688599, 10.42691525],\n",
              "       [10.2134311 , 14.28616515,  0.54357479],\n",
              "       [ 7.03942932,  0.21653944, 14.94906087],\n",
              "       [10.86846074, 15.03477341,  0.45778273],\n",
              "       [10.50325612, 14.36487703,  0.4298807 ],\n",
              "       [ 7.2438154 ,  0.43740036, 15.15812568],\n",
              "       [ 0.6591005 ,  7.41677344, 10.23766651],\n",
              "       [11.05499761, 14.84088406,  0.50376411],\n",
              "       [ 6.24789621,  1.17203198, 13.60161003],\n",
              "       [ 6.84425906,  0.37438214, 14.99289417],\n",
              "       [10.93503836, 15.28126954,  0.91563757],\n",
              "       [10.04339727, 13.99615365,  0.75230054],\n",
              "       [ 0.55163823,  6.37876516, 10.67403758],\n",
              "       [ 0.72843938,  6.62350295, 11.48123214],\n",
              "       [11.33880427, 15.01062705,  0.84183564],\n",
              "       [ 6.29127106,  0.6658958 , 14.58678939],\n",
              "       [ 9.96355618, 13.77975787,  0.97581489],\n",
              "       [ 6.84513705,  0.25296486, 14.91407603],\n",
              "       [10.41627096, 14.45298038,  0.33816588],\n",
              "       [ 6.34990952,  0.4947773 , 14.35019491],\n",
              "       [ 1.16878447,  6.60838502,  9.86224933],\n",
              "       [10.07948754, 14.22963548,  0.70626422],\n",
              "       [ 0.65341205,  6.50853118, 10.39191168],\n",
              "       [ 6.42137131,  0.67954563, 14.06850251],\n",
              "       [10.49010543, 14.91490739,  1.01322762],\n",
              "       [10.57749151, 14.63452674,  0.21040069],\n",
              "       [11.00551233, 14.80915175,  0.45053049],\n",
              "       [11.16678984, 15.26135271,  0.53567359],\n",
              "       [ 6.85193404,  0.04957885, 14.71720909],\n",
              "       [ 0.67331894,  6.19566233, 11.17447428],\n",
              "       [10.54670412, 14.83869252,  0.69863159],\n",
              "       [10.59866348, 14.55772671,  0.18736876],\n",
              "       [ 7.50011584,  0.65810108, 15.22955043],\n",
              "       [ 0.45446859,  7.27532435, 10.46643243],\n",
              "       [ 0.79793165,  7.24250894,  9.95887248],\n",
              "       [ 0.4742827 ,  6.38742887, 10.81232998],\n",
              "       [11.24442499, 15.32262975,  0.58562577],\n",
              "       [ 9.75038227, 13.77898586,  1.01375821],\n",
              "       [ 9.85513911, 13.81735949,  0.93868945],\n",
              "       [ 0.95882076,  7.75381063, 10.75088691],\n",
              "       [ 6.6146031 ,  0.59286522, 14.1971507 ],\n",
              "       [ 0.60488127,  7.2869823 , 10.99796473],\n",
              "       [ 0.2879204 ,  6.61680721, 11.00253963],\n",
              "       [11.1441267 , 14.87050486,  0.65059797],\n",
              "       [ 6.97642158,  0.26079571, 14.99204832],\n",
              "       [ 7.0484362 ,  0.20928509, 14.87188664],\n",
              "       [ 6.08382839,  0.76013731, 14.15802102],\n",
              "       [ 0.57509037,  7.34299858, 10.85457236],\n",
              "       [ 7.69563186,  0.85578023, 15.42421071],\n",
              "       [12.13929614, 15.92970997,  1.39766964],\n",
              "       [ 1.05370222,  6.05579642, 10.49706737],\n",
              "       [ 6.64485898,  1.40492529, 15.46549601],\n",
              "       [ 6.79419314,  0.9389958 , 14.04276719],\n",
              "       [ 0.27330455,  6.75891787, 11.02594428],\n",
              "       [ 7.53300002,  1.18516764, 14.56616047],\n",
              "       [10.97405777, 15.01427259,  0.27746767],\n",
              "       [ 0.27099122,  6.80178601, 10.52312769],\n",
              "       [ 7.14719092,  0.30565938, 14.98104837],\n",
              "       [ 6.67239208,  0.28908744, 14.7742258 ],\n",
              "       [12.02483946, 16.00189559,  1.29475614],\n",
              "       [10.79854353, 14.26574478,  1.16078518],\n",
              "       [ 0.65698333,  7.23328945, 11.1311538 ],\n",
              "       [ 0.58158963,  7.19858529, 10.18968553],\n",
              "       [ 0.60675226,  6.23935998, 10.9315807 ],\n",
              "       [ 7.43869704,  0.59689224, 15.19916391],\n",
              "       [ 6.73882322,  0.20236431, 14.54848906],\n",
              "       [ 0.4087001 ,  6.89750681, 10.36038134],\n",
              "       [ 0.47304563,  6.79195362, 11.21287811],\n",
              "       [ 0.55794738,  7.1008444 , 10.19629352],\n",
              "       [11.90167914, 15.52386192,  1.30118402],\n",
              "       [ 7.25534177,  0.56348231, 14.78322183],\n",
              "       [10.58224214, 14.67665891,  0.26655856],\n",
              "       [10.8061997 , 14.9293862 ,  0.3297315 ],\n",
              "       [ 0.12532717,  6.7271574 , 10.84240001],\n",
              "       [10.28238943, 14.53746999,  0.69524041],\n",
              "       [10.98647955, 14.7169293 ,  0.59078082],\n",
              "       [ 1.56475906,  5.69400117, 12.13405458],\n",
              "       [ 6.48649581,  0.36767002, 14.42000276],\n",
              "       [ 6.83282029,  0.14331638, 14.83213425],\n",
              "       [ 6.77146332,  0.21889063, 14.54950558],\n",
              "       [10.91547564, 15.14129554,  0.61930464],\n",
              "       [ 6.53022661,  0.51428884, 14.78346285],\n",
              "       [11.32387278, 15.20497547,  0.58514238],\n",
              "       [ 0.44224304,  7.09594314, 11.00988601],\n",
              "       [10.7762786 , 14.90862781,  0.34094852],\n",
              "       [ 0.84968145,  7.28439466, 11.31475483],\n",
              "       [ 6.54854228,  0.29790544, 14.5623352 ],\n",
              "       [ 0.55627936,  6.62382047, 10.38287358],\n",
              "       [ 0.35518452,  6.89947565, 10.40886413],\n",
              "       [ 6.84262332,  0.34481822, 14.97243362],\n",
              "       [ 7.62760996,  0.84604773, 15.54293706],\n",
              "       [ 6.90977888,  0.31663298, 14.99907026],\n",
              "       [ 0.17023517,  6.67440301, 10.84370225],\n",
              "       [ 0.17825626,  6.9909321 , 10.7910652 ],\n",
              "       [ 0.48465895,  7.32493711, 10.62270371],\n",
              "       [ 9.88312843, 13.86991971,  0.8952418 ],\n",
              "       [ 6.56946858,  0.62497844, 14.91006426],\n",
              "       [ 7.05965973,  0.33502306, 14.72836825],\n",
              "       [ 6.68104965,  0.16467542, 14.60138474]])"
            ]
          },
          "metadata": {},
          "execution_count": 29
        }
      ]
    },
    {
      "cell_type": "code",
      "metadata": {
        "id": "O972neA_3ajG",
        "colab": {
          "base_uri": "https://localhost:8080/"
        },
        "outputId": "d20fdf1e-ae03-4e94-9e37-cf1edd13b3c2"
      },
      "source": [
        "#  opposite sign of E2 error\n",
        "kmeans.score(X)"
      ],
      "execution_count": null,
      "outputs": [
        {
          "output_type": "execute_result",
          "data": {
            "text/plain": [
              "-46.591471550253594"
            ]
          },
          "metadata": {},
          "execution_count": 30
        }
      ]
    },
    {
      "cell_type": "code",
      "metadata": {
        "id": "AALGmaBzxxKd",
        "colab": {
          "base_uri": "https://localhost:8080/"
        },
        "outputId": "6075ccea-815e-4b8a-e1c0-253224d6ce79"
      },
      "source": [
        "kmeans.transform(X)"
      ],
      "execution_count": null,
      "outputs": [
        {
          "output_type": "execute_result",
          "data": {
            "text/plain": [
              "array([[ 1.3559957 ,  7.54134567, 11.70050793],\n",
              "       [ 0.35423673,  6.84688599, 10.42691525],\n",
              "       [10.2134311 , 14.28616515,  0.54357479],\n",
              "       [ 7.03942932,  0.21653944, 14.94906087],\n",
              "       [10.86846074, 15.03477341,  0.45778273],\n",
              "       [10.50325612, 14.36487703,  0.4298807 ],\n",
              "       [ 7.2438154 ,  0.43740036, 15.15812568],\n",
              "       [ 0.6591005 ,  7.41677344, 10.23766651],\n",
              "       [11.05499761, 14.84088406,  0.50376411],\n",
              "       [ 6.24789621,  1.17203198, 13.60161003],\n",
              "       [ 6.84425906,  0.37438214, 14.99289417],\n",
              "       [10.93503836, 15.28126954,  0.91563757],\n",
              "       [10.04339727, 13.99615365,  0.75230054],\n",
              "       [ 0.55163823,  6.37876516, 10.67403758],\n",
              "       [ 0.72843938,  6.62350295, 11.48123214],\n",
              "       [11.33880427, 15.01062705,  0.84183564],\n",
              "       [ 6.29127106,  0.6658958 , 14.58678939],\n",
              "       [ 9.96355618, 13.77975787,  0.97581489],\n",
              "       [ 6.84513705,  0.25296486, 14.91407603],\n",
              "       [10.41627096, 14.45298038,  0.33816588],\n",
              "       [ 6.34990952,  0.4947773 , 14.35019491],\n",
              "       [ 1.16878447,  6.60838502,  9.86224933],\n",
              "       [10.07948754, 14.22963548,  0.70626422],\n",
              "       [ 0.65341205,  6.50853118, 10.39191168],\n",
              "       [ 6.42137131,  0.67954563, 14.06850251],\n",
              "       [10.49010543, 14.91490739,  1.01322762],\n",
              "       [10.57749151, 14.63452674,  0.21040069],\n",
              "       [11.00551233, 14.80915175,  0.45053049],\n",
              "       [11.16678984, 15.26135271,  0.53567359],\n",
              "       [ 6.85193404,  0.04957885, 14.71720909],\n",
              "       [ 0.67331894,  6.19566233, 11.17447428],\n",
              "       [10.54670412, 14.83869252,  0.69863159],\n",
              "       [10.59866348, 14.55772671,  0.18736876],\n",
              "       [ 7.50011584,  0.65810108, 15.22955043],\n",
              "       [ 0.45446859,  7.27532435, 10.46643243],\n",
              "       [ 0.79793165,  7.24250894,  9.95887248],\n",
              "       [ 0.4742827 ,  6.38742887, 10.81232998],\n",
              "       [11.24442499, 15.32262975,  0.58562577],\n",
              "       [ 9.75038227, 13.77898586,  1.01375821],\n",
              "       [ 9.85513911, 13.81735949,  0.93868945],\n",
              "       [ 0.95882076,  7.75381063, 10.75088691],\n",
              "       [ 6.6146031 ,  0.59286522, 14.1971507 ],\n",
              "       [ 0.60488127,  7.2869823 , 10.99796473],\n",
              "       [ 0.2879204 ,  6.61680721, 11.00253963],\n",
              "       [11.1441267 , 14.87050486,  0.65059797],\n",
              "       [ 6.97642158,  0.26079571, 14.99204832],\n",
              "       [ 7.0484362 ,  0.20928509, 14.87188664],\n",
              "       [ 6.08382839,  0.76013731, 14.15802102],\n",
              "       [ 0.57509037,  7.34299858, 10.85457236],\n",
              "       [ 7.69563186,  0.85578023, 15.42421071],\n",
              "       [12.13929614, 15.92970997,  1.39766964],\n",
              "       [ 1.05370222,  6.05579642, 10.49706737],\n",
              "       [ 6.64485898,  1.40492529, 15.46549601],\n",
              "       [ 6.79419314,  0.9389958 , 14.04276719],\n",
              "       [ 0.27330455,  6.75891787, 11.02594428],\n",
              "       [ 7.53300002,  1.18516764, 14.56616047],\n",
              "       [10.97405777, 15.01427259,  0.27746767],\n",
              "       [ 0.27099122,  6.80178601, 10.52312769],\n",
              "       [ 7.14719092,  0.30565938, 14.98104837],\n",
              "       [ 6.67239208,  0.28908744, 14.7742258 ],\n",
              "       [12.02483946, 16.00189559,  1.29475614],\n",
              "       [10.79854353, 14.26574478,  1.16078518],\n",
              "       [ 0.65698333,  7.23328945, 11.1311538 ],\n",
              "       [ 0.58158963,  7.19858529, 10.18968553],\n",
              "       [ 0.60675226,  6.23935998, 10.9315807 ],\n",
              "       [ 7.43869704,  0.59689224, 15.19916391],\n",
              "       [ 6.73882322,  0.20236431, 14.54848906],\n",
              "       [ 0.4087001 ,  6.89750681, 10.36038134],\n",
              "       [ 0.47304563,  6.79195362, 11.21287811],\n",
              "       [ 0.55794738,  7.1008444 , 10.19629352],\n",
              "       [11.90167914, 15.52386192,  1.30118402],\n",
              "       [ 7.25534177,  0.56348231, 14.78322183],\n",
              "       [10.58224214, 14.67665891,  0.26655856],\n",
              "       [10.8061997 , 14.9293862 ,  0.3297315 ],\n",
              "       [ 0.12532717,  6.7271574 , 10.84240001],\n",
              "       [10.28238943, 14.53746999,  0.69524041],\n",
              "       [10.98647955, 14.7169293 ,  0.59078082],\n",
              "       [ 1.56475906,  5.69400117, 12.13405458],\n",
              "       [ 6.48649581,  0.36767002, 14.42000276],\n",
              "       [ 6.83282029,  0.14331638, 14.83213425],\n",
              "       [ 6.77146332,  0.21889063, 14.54950558],\n",
              "       [10.91547564, 15.14129554,  0.61930464],\n",
              "       [ 6.53022661,  0.51428884, 14.78346285],\n",
              "       [11.32387278, 15.20497547,  0.58514238],\n",
              "       [ 0.44224304,  7.09594314, 11.00988601],\n",
              "       [10.7762786 , 14.90862781,  0.34094852],\n",
              "       [ 0.84968145,  7.28439466, 11.31475483],\n",
              "       [ 6.54854228,  0.29790544, 14.5623352 ],\n",
              "       [ 0.55627936,  6.62382047, 10.38287358],\n",
              "       [ 0.35518452,  6.89947565, 10.40886413],\n",
              "       [ 6.84262332,  0.34481822, 14.97243362],\n",
              "       [ 7.62760996,  0.84604773, 15.54293706],\n",
              "       [ 6.90977888,  0.31663298, 14.99907026],\n",
              "       [ 0.17023517,  6.67440301, 10.84370225],\n",
              "       [ 0.17825626,  6.9909321 , 10.7910652 ],\n",
              "       [ 0.48465895,  7.32493711, 10.62270371],\n",
              "       [ 9.88312843, 13.86991971,  0.8952418 ],\n",
              "       [ 6.56946858,  0.62497844, 14.91006426],\n",
              "       [ 7.05965973,  0.33502306, 14.72836825],\n",
              "       [ 6.68104965,  0.16467542, 14.60138474]])"
            ]
          },
          "metadata": {},
          "execution_count": 31
        }
      ]
    },
    {
      "cell_type": "code",
      "metadata": {
        "id": "4e0qMHot6HHU",
        "colab": {
          "base_uri": "https://localhost:8080/"
        },
        "outputId": "4c27be06-9fd7-41e3-94ff-f715f0188bfe"
      },
      "source": [
        "# Fit and Predict\n",
        "kmeans.fit_predict(X)"
      ],
      "execution_count": null,
      "outputs": [
        {
          "output_type": "execute_result",
          "data": {
            "text/plain": [
              "array([1, 1, 0, 2, 0, 0, 2, 1, 0, 2, 2, 0, 0, 1, 1, 0, 2, 0, 2, 0, 2, 1,\n",
              "       0, 1, 2, 0, 0, 0, 0, 2, 1, 0, 0, 2, 1, 1, 1, 0, 0, 0, 1, 2, 1, 1,\n",
              "       0, 2, 2, 2, 1, 2, 0, 1, 2, 2, 1, 2, 0, 1, 2, 2, 0, 0, 1, 1, 1, 2,\n",
              "       2, 1, 1, 1, 0, 2, 0, 0, 1, 0, 0, 1, 2, 2, 2, 0, 2, 0, 1, 0, 1, 2,\n",
              "       1, 1, 2, 2, 2, 1, 1, 1, 0, 2, 2, 2], dtype=int32)"
            ]
          },
          "metadata": {},
          "execution_count": 32
        }
      ]
    },
    {
      "cell_type": "code",
      "metadata": {
        "id": "rTMPykIM-6jQ",
        "colab": {
          "base_uri": "https://localhost:8080/"
        },
        "outputId": "632b79e3-9a23-435b-c013-d2f733626e6e"
      },
      "source": [
        "# Fit and Transform\n",
        "kmeans.fit_transform(X)"
      ],
      "execution_count": null,
      "outputs": [
        {
          "output_type": "execute_result",
          "data": {
            "text/plain": [
              "array([[11.70050793,  1.3559957 ,  7.54134567],\n",
              "       [10.42691525,  0.35423673,  6.84688599],\n",
              "       [ 0.54357479, 10.2134311 , 14.28616515],\n",
              "       [14.94906087,  7.03942932,  0.21653944],\n",
              "       [ 0.45778273, 10.86846074, 15.03477341],\n",
              "       [ 0.4298807 , 10.50325612, 14.36487703],\n",
              "       [15.15812568,  7.2438154 ,  0.43740036],\n",
              "       [10.23766651,  0.6591005 ,  7.41677344],\n",
              "       [ 0.50376411, 11.05499761, 14.84088406],\n",
              "       [13.60161003,  6.24789621,  1.17203198],\n",
              "       [14.99289417,  6.84425906,  0.37438214],\n",
              "       [ 0.91563757, 10.93503836, 15.28126954],\n",
              "       [ 0.75230054, 10.04339727, 13.99615365],\n",
              "       [10.67403758,  0.55163823,  6.37876516],\n",
              "       [11.48123214,  0.72843938,  6.62350295],\n",
              "       [ 0.84183564, 11.33880427, 15.01062705],\n",
              "       [14.58678939,  6.29127106,  0.6658958 ],\n",
              "       [ 0.97581489,  9.96355618, 13.77975787],\n",
              "       [14.91407603,  6.84513705,  0.25296486],\n",
              "       [ 0.33816588, 10.41627096, 14.45298038],\n",
              "       [14.35019491,  6.34990952,  0.4947773 ],\n",
              "       [ 9.86224933,  1.16878447,  6.60838502],\n",
              "       [ 0.70626422, 10.07948754, 14.22963548],\n",
              "       [10.39191168,  0.65341205,  6.50853118],\n",
              "       [14.06850251,  6.42137131,  0.67954563],\n",
              "       [ 1.01322762, 10.49010543, 14.91490739],\n",
              "       [ 0.21040069, 10.57749151, 14.63452674],\n",
              "       [ 0.45053049, 11.00551233, 14.80915175],\n",
              "       [ 0.53567359, 11.16678984, 15.26135271],\n",
              "       [14.71720909,  6.85193404,  0.04957885],\n",
              "       [11.17447428,  0.67331894,  6.19566233],\n",
              "       [ 0.69863159, 10.54670412, 14.83869252],\n",
              "       [ 0.18736876, 10.59866348, 14.55772671],\n",
              "       [15.22955043,  7.50011584,  0.65810108],\n",
              "       [10.46643243,  0.45446859,  7.27532435],\n",
              "       [ 9.95887248,  0.79793165,  7.24250894],\n",
              "       [10.81232998,  0.4742827 ,  6.38742887],\n",
              "       [ 0.58562577, 11.24442499, 15.32262975],\n",
              "       [ 1.01375821,  9.75038227, 13.77898586],\n",
              "       [ 0.93868945,  9.85513911, 13.81735949],\n",
              "       [10.75088691,  0.95882076,  7.75381063],\n",
              "       [14.1971507 ,  6.6146031 ,  0.59286522],\n",
              "       [10.99796473,  0.60488127,  7.2869823 ],\n",
              "       [11.00253963,  0.2879204 ,  6.61680721],\n",
              "       [ 0.65059797, 11.1441267 , 14.87050486],\n",
              "       [14.99204832,  6.97642158,  0.26079571],\n",
              "       [14.87188664,  7.0484362 ,  0.20928509],\n",
              "       [14.15802102,  6.08382839,  0.76013731],\n",
              "       [10.85457236,  0.57509037,  7.34299858],\n",
              "       [15.42421071,  7.69563186,  0.85578023],\n",
              "       [ 1.39766964, 12.13929614, 15.92970997],\n",
              "       [10.49706737,  1.05370222,  6.05579642],\n",
              "       [15.46549601,  6.64485898,  1.40492529],\n",
              "       [14.04276719,  6.79419314,  0.9389958 ],\n",
              "       [11.02594428,  0.27330455,  6.75891787],\n",
              "       [14.56616047,  7.53300002,  1.18516764],\n",
              "       [ 0.27746767, 10.97405777, 15.01427259],\n",
              "       [10.52312769,  0.27099122,  6.80178601],\n",
              "       [14.98104837,  7.14719092,  0.30565938],\n",
              "       [14.7742258 ,  6.67239208,  0.28908744],\n",
              "       [ 1.29475614, 12.02483946, 16.00189559],\n",
              "       [ 1.16078518, 10.79854353, 14.26574478],\n",
              "       [11.1311538 ,  0.65698333,  7.23328945],\n",
              "       [10.18968553,  0.58158963,  7.19858529],\n",
              "       [10.9315807 ,  0.60675226,  6.23935998],\n",
              "       [15.19916391,  7.43869704,  0.59689224],\n",
              "       [14.54848906,  6.73882322,  0.20236431],\n",
              "       [10.36038134,  0.4087001 ,  6.89750681],\n",
              "       [11.21287811,  0.47304563,  6.79195362],\n",
              "       [10.19629352,  0.55794738,  7.1008444 ],\n",
              "       [ 1.30118402, 11.90167914, 15.52386192],\n",
              "       [14.78322183,  7.25534177,  0.56348231],\n",
              "       [ 0.26655856, 10.58224214, 14.67665891],\n",
              "       [ 0.3297315 , 10.8061997 , 14.9293862 ],\n",
              "       [10.84240001,  0.12532717,  6.7271574 ],\n",
              "       [ 0.69524041, 10.28238943, 14.53746999],\n",
              "       [ 0.59078082, 10.98647955, 14.7169293 ],\n",
              "       [12.13405458,  1.56475906,  5.69400117],\n",
              "       [14.42000276,  6.48649581,  0.36767002],\n",
              "       [14.83213425,  6.83282029,  0.14331638],\n",
              "       [14.54950558,  6.77146332,  0.21889063],\n",
              "       [ 0.61930464, 10.91547564, 15.14129554],\n",
              "       [14.78346285,  6.53022661,  0.51428884],\n",
              "       [ 0.58514238, 11.32387278, 15.20497547],\n",
              "       [11.00988601,  0.44224304,  7.09594314],\n",
              "       [ 0.34094852, 10.7762786 , 14.90862781],\n",
              "       [11.31475483,  0.84968145,  7.28439466],\n",
              "       [14.5623352 ,  6.54854228,  0.29790544],\n",
              "       [10.38287358,  0.55627936,  6.62382047],\n",
              "       [10.40886413,  0.35518452,  6.89947565],\n",
              "       [14.97243362,  6.84262332,  0.34481822],\n",
              "       [15.54293706,  7.62760996,  0.84604773],\n",
              "       [14.99907026,  6.90977888,  0.31663298],\n",
              "       [10.84370225,  0.17023517,  6.67440301],\n",
              "       [10.7910652 ,  0.17825626,  6.9909321 ],\n",
              "       [10.62270371,  0.48465895,  7.32493711],\n",
              "       [ 0.8952418 ,  9.88312843, 13.86991971],\n",
              "       [14.91006426,  6.56946858,  0.62497844],\n",
              "       [14.72836825,  7.05965973,  0.33502306],\n",
              "       [14.60138474,  6.68104965,  0.16467542]])"
            ]
          },
          "metadata": {},
          "execution_count": 33
        }
      ]
    },
    {
      "cell_type": "markdown",
      "metadata": {
        "id": "P9WP2ThaAGaC"
      },
      "source": [
        "***Find Number of Cluster***"
      ]
    },
    {
      "cell_type": "markdown",
      "source": [
        "ว่าควรมีกี่กลุ่ม : error ไม่ลดลงเยอะมากแล้ว นิ่ง ๆ"
      ],
      "metadata": {
        "id": "NkX9nJaTBzyv"
      }
    },
    {
      "cell_type": "code",
      "metadata": {
        "id": "T4b40Gdz_GJf",
        "colab": {
          "base_uri": "https://localhost:8080/"
        },
        "outputId": "496979bf-512d-41f2-8e6a-fa1686324322"
      },
      "source": [
        "K=range(2,15)\n",
        "E2=[]\n",
        "for k in K:\n",
        "    model=KMeans(n_clusters=k,n_init='auto')\n",
        "    model=model.fit(X)\n",
        "    E2.append(model.inertia_)\n",
        "\n",
        "E2"
      ],
      "execution_count": null,
      "outputs": [
        {
          "output_type": "execute_result",
          "data": {
            "text/plain": [
              "[830.5444077138491,\n",
              " 46.5914715502536,\n",
              " 38.50955003717911,\n",
              " 34.201255085595065,\n",
              " 35.61421033828769,\n",
              " 25.71960629233093,\n",
              " 22.34899160709646,\n",
              " 20.071451915001013,\n",
              " 17.720229311741868,\n",
              " 16.28009572929122,\n",
              " 16.03519305445041,\n",
              " 13.013871875299102,\n",
              " 10.7190362256568]"
            ]
          },
          "metadata": {},
          "execution_count": 34
        }
      ]
    },
    {
      "cell_type": "code",
      "metadata": {
        "id": "Pci83yXsAYww",
        "colab": {
          "base_uri": "https://localhost:8080/",
          "height": 447
        },
        "outputId": "84b72aca-918e-42a2-ef38-fb090d2d8b4f"
      },
      "source": [
        "plt.plot(K,E2,'rx-')"
      ],
      "execution_count": null,
      "outputs": [
        {
          "output_type": "execute_result",
          "data": {
            "text/plain": [
              "[<matplotlib.lines.Line2D at 0x7faee193f1c0>]"
            ]
          },
          "metadata": {},
          "execution_count": 35
        },
        {
          "output_type": "display_data",
          "data": {
            "text/plain": [
              "<Figure size 640x480 with 1 Axes>"
            ],
            "image/png": "[encoded data removed]"
          },
          "metadata": {}
        }
      ]
    },
    {
      "cell_type": "code",
      "metadata": {
        "id": "-bHKI_xVFuDY",
        "colab": {
          "base_uri": "https://localhost:8080/",
          "height": 447
        },
        "outputId": "1d6a6983-06cd-4a0f-c83d-37687f1c9fa2"
      },
      "source": [
        "# Scatter plot\n",
        "\n",
        "plt.plot(X[:,0],X[:,1],'o')"
      ],
      "execution_count": null,
      "outputs": [
        {
          "output_type": "execute_result",
          "data": {
            "text/plain": [
              "[<matplotlib.lines.Line2D at 0x7faee1932d00>]"
            ]
          },
          "metadata": {},
          "execution_count": 36
        },
        {
          "output_type": "display_data",
          "data": {
            "text/plain": [
              "<Figure size 640x480 with 1 Axes>"
            ],
            "image/png": "[encoded data removed]"
          },
          "metadata": {}
        }
      ]
    },
    {
      "cell_type": "code",
      "metadata": {
        "id": "C1NzdWspJTIB"
      },
      "source": [
        "MX1=kmeans.cluster_centers_[:,0]\n",
        "MX2=kmeans.cluster_centers_[:,1]"
      ],
      "execution_count": null,
      "outputs": []
    },
    {
      "cell_type": "code",
      "metadata": {
        "id": "mcWrh7erJWjR",
        "colab": {
          "base_uri": "https://localhost:8080/",
          "height": 447
        },
        "outputId": "b5ef34bd-28f5-40bd-bcbc-fee13397ca52"
      },
      "source": [
        "#plt.plot(X[:,0],X[:,1],'+r',MX1,MX2,'ob')\n",
        "plt.plot(X[:,0],X[:,1],'+r')\n",
        "plt.plot(MX1,MX2,'ob')"
      ],
      "execution_count": null,
      "outputs": [
        {
          "output_type": "execute_result",
          "data": {
            "text/plain": [
              "[<matplotlib.lines.Line2D at 0x7faee1847b20>]"
            ]
          },
          "metadata": {},
          "execution_count": 38
        },
        {
          "output_type": "display_data",
          "data": {
            "text/plain": [
              "<Figure size 640x480 with 1 Axes>"
            ],
            "image/png": "[encoded data removed]"
          },
          "metadata": {}
        }
      ]
    },
    {
      "cell_type": "markdown",
      "metadata": {
        "id": "0HXQE9Hg9E9h"
      },
      "source": [
        "### **silhouette coefficient**"
      ]
    },
    {
      "cell_type": "code",
      "metadata": {
        "id": "d7COY1BJ9Czx"
      },
      "source": [
        "from sklearn.metrics import silhouette_score"
      ],
      "execution_count": null,
      "outputs": []
    },
    {
      "cell_type": "code",
      "metadata": {
        "id": "ci9ajfdPCwys"
      },
      "source": [
        "from sklearn.preprocessing import StandardScaler"
      ],
      "execution_count": null,
      "outputs": []
    },
    {
      "cell_type": "code",
      "metadata": {
        "id": "4XIcMshfChUl"
      },
      "source": [
        "scaler = StandardScaler()\n",
        "scaled_features = scaler.fit_transform(X)"
      ],
      "execution_count": null,
      "outputs": []
    },
    {
      "cell_type": "code",
      "metadata": {
        "colab": {
          "base_uri": "https://localhost:8080/"
        },
        "id": "pkZCiWwS_OkV",
        "outputId": "aa442a3b-c31f-4e8f-8298-8645d19c2f23"
      },
      "source": [
        "sc = []\n",
        "\n",
        "kmeans_kwargs = {\n",
        "    \"init\": \"random\",\n",
        "    \"n_init\": 10,\n",
        "    \"max_iter\": 300,\n",
        "    \"random_state\": 42,\n",
        "    }\n",
        "\n",
        "K=range(2,15)\n",
        "for k in K:\n",
        "  model = KMeans(n_clusters=k, **kmeans_kwargs)\n",
        "  #model = KMeans(n_clusters=k)\n",
        "  model.fit(scaled_features)\n",
        "  score = silhouette_score(scaled_features, model.labels_)\n",
        "  sc.append(score)\n",
        "\n",
        "sc"
      ],
      "execution_count": null,
      "outputs": [
        {
          "output_type": "execute_result",
          "data": {
            "text/plain": [
              "[0.6595188949948988,\n",
              " 0.8763131300632366,\n",
              " 0.746426817317499,\n",
              " 0.626437646933997,\n",
              " 0.47356757398483373,\n",
              " 0.4657314988733262,\n",
              " 0.42170618719804964,\n",
              " 0.43826706932780085,\n",
              " 0.4245339116824837,\n",
              " 0.4169355956738025,\n",
              " 0.37582679380191464,\n",
              " 0.36809637932668077,\n",
              " 0.36199811480905447]"
            ]
          },
          "metadata": {},
          "execution_count": 42
        }
      ]
    },
    {
      "cell_type": "code",
      "metadata": {
        "colab": {
          "base_uri": "https://localhost:8080/",
          "height": 471
        },
        "id": "ttDVN41kBPOM",
        "outputId": "ed75c2f5-1253-42ee-8da9-09e22a374fd4"
      },
      "source": [
        "plt.plot(K,sc,'rx-')\n",
        "plt.ylabel('Silhouette Coef.')\n",
        "plt.xlabel('K')"
      ],
      "execution_count": null,
      "outputs": [
        {
          "output_type": "execute_result",
          "data": {
            "text/plain": [
              "Text(0.5, 0, 'K')"
            ]
          },
          "metadata": {},
          "execution_count": 43
        },
        {
          "output_type": "display_data",
          "data": {
            "text/plain": [
              "<Figure size 640x480 with 1 Axes>"
            ],
            "image/png": "[encoded data removed]"
          },
          "metadata": {}
        }
      ]
    },
    {
      "cell_type": "markdown",
      "metadata": {
        "id": "6tKWgmzfXXJk"
      },
      "source": [
        "# **NAIVE BAYES CLASSIFICATION**"
      ]
    },
    {
      "cell_type": "code",
      "metadata": {
        "id": "7EAq1XFd8igg",
        "colab": {
          "base_uri": "https://localhost:8080/"
        },
        "outputId": "ddb289b2-2228-4f23-919d-4692cd5aa9dd"
      },
      "source": [
        "from google.colab import drive\n",
        "drive.mount('/content/drive')"
      ],
      "execution_count": null,
      "outputs": [
        {
          "output_type": "stream",
          "name": "stdout",
          "text": [
            "Drive already mounted at /content/drive; to attempt to forcibly remount, call drive.mount(\"/content/drive\", force_remount=True).\n"
          ]
        }
      ]
    },
    {
      "cell_type": "markdown",
      "metadata": {
        "id": "RXqGfC0yAav9"
      },
      "source": [
        "***Tennis Data***"
      ]
    },
    {
      "cell_type": "code",
      "metadata": {
        "id": "afjWPySpNqJ5",
        "colab": {
          "base_uri": "https://localhost:8080/",
          "height": 488
        },
        "outputId": "2b7d85b8-df2a-46d4-d569-d798a56bee39"
      },
      "source": [
        "\n",
        "tennis=pd.read_csv('/content/drive/MyDrive/Year 2/2-65/FDS/play_tennis.csv')\n",
        "tennis['humidity']\n",
        "tennis"
      ],
      "execution_count": null,
      "outputs": [
        {
          "output_type": "execute_result",
          "data": {
            "text/plain": [
              "    day   outlook  temp humidity    wind play\n",
              "0    D1     Sunny   Hot     High    Weak   No\n",
              "1    D2     Sunny   Hot     High  Strong   No\n",
              "2    D3  Overcast   Hot     High    Weak  Yes\n",
              "3    D4      Rain  Mild     High    Weak  Yes\n",
              "4    D5      Rain  Cool   Normal    Weak  Yes\n",
              "5    D6      Rain  Cool   Normal  Strong   No\n",
              "6    D7  Overcast  Cool   Normal  Strong  Yes\n",
              "7    D8     Sunny  Mild     High    Weak   No\n",
              "8    D9     Sunny  Cool   Normal    Weak  Yes\n",
              "9   D10      Rain  Mild   Normal    Weak  Yes\n",
              "10  D11     Sunny  Mild   Normal  Strong  Yes\n",
              "11  D12  Overcast  Mild     High  Strong  Yes\n",
              "12  D13  Overcast   Hot   Normal    Weak  Yes\n",
              "13  D14      Rain  Mild     High  Strong   No"
            ],
            "text/html": [
              "\n",
              "  <div id=\"df-68b19afd-bf65-4c5a-bfff-03aa78e2502d\">\n",
              "    <div class=\"colab-df-container\">\n",
              "      <div>\n",
              "<style scoped>\n",
              "    .dataframe tbody tr th:only-of-type {\n",
              "        vertical-align: middle;\n",
              "    }\n",
              "\n",
              "    .dataframe tbody tr th {\n",
              "        vertical-align: top;\n",
              "    }\n",
              "\n",
              "    .dataframe thead th {\n",
              "        text-align: right;\n",
              "    }\n",
              "</style>\n",
              "<table border=\"1\" class=\"dataframe\">\n",
              "  <thead>\n",
              "    <tr style=\"text-align: right;\">\n",
              "      <th></th>\n",
              "      <th>day</th>\n",
              "      <th>outlook</th>\n",
              "      <th>temp</th>\n",
              "      <th>humidity</th>\n",
              "      <th>wind</th>\n",
              "      <th>play</th>\n",
              "    </tr>\n",
              "  </thead>\n",
              "  <tbody>\n",
              "    <tr>\n",
              "      <th>0</th>\n",
              "      <td>D1</td>\n",
              "      <td>Sunny</td>\n",
              "      <td>Hot</td>\n",
              "      <td>High</td>\n",
              "      <td>Weak</td>\n",
              "      <td>No</td>\n",
              "    </tr>\n",
              "    <tr>\n",
              "      <th>1</th>\n",
              "      <td>D2</td>\n",
              "      <td>Sunny</td>\n",
              "      <td>Hot</td>\n",
              "      <td>High</td>\n",
              "      <td>Strong</td>\n",
              "      <td>No</td>\n",
              "    </tr>\n",
              "    <tr>\n",
              "      <th>2</th>\n",
              "      <td>D3</td>\n",
              "      <td>Overcast</td>\n",
              "      <td>Hot</td>\n",
              "      <td>High</td>\n",
              "      <td>Weak</td>\n",
              "      <td>Yes</td>\n",
              "    </tr>\n",
              "    <tr>\n",
              "      <th>3</th>\n",
              "      <td>D4</td>\n",
              "      <td>Rain</td>\n",
              "      <td>Mild</td>\n",
              "      <td>High</td>\n",
              "      <td>Weak</td>\n",
              "      <td>Yes</td>\n",
              "    </tr>\n",
              "    <tr>\n",
              "      <th>4</th>\n",
              "      <td>D5</td>\n",
              "      <td>Rain</td>\n",
              "      <td>Cool</td>\n",
              "      <td>Normal</td>\n",
              "      <td>Weak</td>\n",
              "      <td>Yes</td>\n",
              "    </tr>\n",
              "    <tr>\n",
              "      <th>5</th>\n",
              "      <td>D6</td>\n",
              "      <td>Rain</td>\n",
              "      <td>Cool</td>\n",
              "      <td>Normal</td>\n",
              "      <td>Strong</td>\n",
              "      <td>No</td>\n",
              "    </tr>\n",
              "    <tr>\n",
              "      <th>6</th>\n",
              "      <td>D7</td>\n",
              "      <td>Overcast</td>\n",
              "      <td>Cool</td>\n",
              "      <td>Normal</td>\n",
              "      <td>Strong</td>\n",
              "      <td>Yes</td>\n",
              "    </tr>\n",
              "    <tr>\n",
              "      <th>7</th>\n",
              "      <td>D8</td>\n",
              "      <td>Sunny</td>\n",
              "      <td>Mild</td>\n",
              "      <td>High</td>\n",
              "      <td>Weak</td>\n",
              "      <td>No</td>\n",
              "    </tr>\n",
              "    <tr>\n",
              "      <th>8</th>\n",
              "      <td>D9</td>\n",
              "      <td>Sunny</td>\n",
              "      <td>Cool</td>\n",
              "      <td>Normal</td>\n",
              "      <td>Weak</td>\n",
              "      <td>Yes</td>\n",
              "    </tr>\n",
              "    <tr>\n",
              "      <th>9</th>\n",
              "      <td>D10</td>\n",
              "      <td>Rain</td>\n",
              "      <td>Mild</td>\n",
              "      <td>Normal</td>\n",
              "      <td>Weak</td>\n",
              "      <td>Yes</td>\n",
              "    </tr>\n",
              "    <tr>\n",
              "      <th>10</th>\n",
              "      <td>D11</td>\n",
              "      <td>Sunny</td>\n",
              "      <td>Mild</td>\n",
              "      <td>Normal</td>\n",
              "      <td>Strong</td>\n",
              "      <td>Yes</td>\n",
              "    </tr>\n",
              "    <tr>\n",
              "      <th>11</th>\n",
              "      <td>D12</td>\n",
              "      <td>Overcast</td>\n",
              "      <td>Mild</td>\n",
              "      <td>High</td>\n",
              "      <td>Strong</td>\n",
              "      <td>Yes</td>\n",
              "    </tr>\n",
              "    <tr>\n",
              "      <th>12</th>\n",
              "      <td>D13</td>\n",
              "      <td>Overcast</td>\n",
              "      <td>Hot</td>\n",
              "      <td>Normal</td>\n",
              "      <td>Weak</td>\n",
              "      <td>Yes</td>\n",
              "    </tr>\n",
              "    <tr>\n",
              "      <th>13</th>\n",
              "      <td>D14</td>\n",
              "      <td>Rain</td>\n",
              "      <td>Mild</td>\n",
              "      <td>High</td>\n",
              "      <td>Strong</td>\n",
              "      <td>No</td>\n",
              "    </tr>\n",
              "  </tbody>\n",
              "</table>\n",
              "</div>\n",
              "      <button class=\"colab-df-convert\" onclick=\"convertToInteractive('df-68b19afd-bf65-4c5a-bfff-03aa78e2502d')\"\n",
              "              title=\"Convert this dataframe to an interactive table.\"\n",
              "              style=\"display:none;\">\n",
              "        \n",
              "  <svg xmlns=\"http://www.w3.org/2000/svg\" height=\"24px\"viewBox=\"0 0 24 24\"\n",
              "       width=\"24px\">\n",
              "    <path d=\"M0 0h24v24H0V0z\" fill=\"none\"/>\n",
              "    <path d=\"M18.56 5.44l.94 2.06.94-2.06 2.06-.94-2.06-.94-.94-2.06-.94 2.06-2.06.94zm-11 1L8.5 8.5l.94-2.06 2.06-.94-2.06-.94L8.5 2.5l-.94 2.06-2.06.94zm10 10l.94 2.06.94-2.06 2.06-.94-2.06-.94-.94-2.06-.94 2.06-2.06.94z\"/><path d=\"M17.41 7.96l-1.37-1.37c-.4-.4-.92-.59-1.43-.59-.52 0-1.04.2-1.43.59L10.3 9.45l-7.72 7.72c-.78.78-.78 2.05 0 2.83L4 21.41c.39.39.9.59 1.41.59.51 0 1.02-.2 1.41-.59l7.78-7.78 2.81-2.81c.8-.78.8-2.07 0-2.86zM5.41 20L4 18.59l7.72-7.72 1.47 1.35L5.41 20z\"/>\n",
              "  </svg>\n",
              "      </button>\n",
              "      \n",
              "  <style>\n",
              "    .colab-df-container {\n",
              "      display:flex;\n",
              "      flex-wrap:wrap;\n",
              "      gap: 12px;\n",
              "    }\n",
              "\n",
              "    .colab-df-convert {\n",
              "      background-color: #E8F0FE;\n",
              "      border: none;\n",
              "      border-radius: 50%;\n",
              "      cursor: pointer;\n",
              "      display: none;\n",
              "      fill: #1967D2;\n",
              "      height: 32px;\n",
              "      padding: 0 0 0 0;\n",
              "      width: 32px;\n",
              "    }\n",
              "\n",
              "    .colab-df-convert:hover {\n",
              "      background-color: #E2EBFA;\n",
              "      box-shadow: 0px 1px 2px rgba(60, 64, 67, 0.3), 0px 1px 3px 1px rgba(60, 64, 67, 0.15);\n",
              "      fill: #174EA6;\n",
              "    }\n",
              "\n",
              "    [theme=dark] .colab-df-convert {\n",
              "      background-color: #3B4455;\n",
              "      fill: #D2E3FC;\n",
              "    }\n",
              "\n",
              "    [theme=dark] .colab-df-convert:hover {\n",
              "      background-color: #434B5C;\n",
              "      box-shadow: 0px 1px 3px 1px rgba(0, 0, 0, 0.15);\n",
              "      filter: drop-shadow(0px 1px 2px rgba(0, 0, 0, 0.3));\n",
              "      fill: #FFFFFF;\n",
              "    }\n",
              "  </style>\n",
              "\n",
              "      <script>\n",
              "        const buttonEl =\n",
              "          document.querySelector('#df-68b19afd-bf65-4c5a-bfff-03aa78e2502d button.colab-df-convert');\n",
              "        buttonEl.style.display =\n",
              "          google.colab.kernel.accessAllowed ? 'block' : 'none';\n",
              "\n",
              "        async function convertToInteractive(key) {\n",
              "          const element = document.querySelector('#df-68b19afd-bf65-4c5a-bfff-03aa78e2502d');\n",
              "          const dataTable =\n",
              "            await google.colab.kernel.invokeFunction('convertToInteractive',\n",
              "                                                     [key], {});\n",
              "          if (!dataTable) return;\n",
              "\n",
              "          const docLinkHtml = 'Like what you see? Visit the ' +\n",
              "            '<a target=\"_blank\" href=https://colab.research.google.com/notebooks/data_table.ipynb>data table notebook</a>'\n",
              "            + ' to learn more about interactive tables.';\n",
              "          element.innerHTML = '';\n",
              "          dataTable['output_type'] = 'display_data';\n",
              "          await google.colab.output.renderOutput(dataTable, element);\n",
              "          const docLink = document.createElement('div');\n",
              "          docLink.innerHTML = docLinkHtml;\n",
              "          element.appendChild(docLink);\n",
              "        }\n",
              "      </script>\n",
              "    </div>\n",
              "  </div>\n",
              "  "
            ]
          },
          "metadata": {},
          "execution_count": 131
        }
      ]
    },
    {
      "cell_type": "code",
      "source": [
        "tennis.info()"
      ],
      "metadata": {
        "colab": {
          "base_uri": "https://localhost:8080/"
        },
        "id": "XTZWj_gCkRnL",
        "outputId": "fb40a195-a1ce-448c-9d5a-c724f908bafe"
      },
      "execution_count": null,
      "outputs": [
        {
          "output_type": "stream",
          "name": "stdout",
          "text": [
            "<class 'pandas.core.frame.DataFrame'>\n",
            "RangeIndex: 14 entries, 0 to 13\n",
            "Data columns (total 6 columns):\n",
            " #   Column    Non-Null Count  Dtype \n",
            "---  ------    --------------  ----- \n",
            " 0   day       14 non-null     object\n",
            " 1   outlook   14 non-null     object\n",
            " 2   temp      14 non-null     object\n",
            " 3   humidity  14 non-null     object\n",
            " 4   wind      14 non-null     object\n",
            " 5   play      14 non-null     object\n",
            "dtypes: object(6)\n",
            "memory usage: 800.0+ bytes\n"
          ]
        }
      ]
    },
    {
      "cell_type": "code",
      "source": [
        "from sklearn.preprocessing import LabelEncoder"
      ],
      "metadata": {
        "id": "XuqZ5ZoxlseP"
      },
      "execution_count": null,
      "outputs": []
    },
    {
      "cell_type": "code",
      "source": [
        "le_out=LabelEncoder()\n",
        "le_temp=LabelEncoder()\n",
        "le_humi=LabelEncoder()\n",
        "le_wind=LabelEncoder()\n",
        "le_play=LabelEncoder()"
      ],
      "metadata": {
        "id": "ddFIYVj9l_uq"
      },
      "execution_count": null,
      "outputs": []
    },
    {
      "cell_type": "code",
      "source": [
        "outlook_en=le_out.fit_transform(tennis['outlook'])\n",
        "temp_en=le_temp.fit_transform(tennis['temp'])\n",
        "humidity_en=le_humi.fit_transform(tennis['outlook'])\n",
        "wind_en=le_wind.fit_transform(tennis['wind'])\n",
        "play_en=le_play.fit_transform(tennis['play'])"
      ],
      "metadata": {
        "id": "8dTSGYjWmLSD"
      },
      "execution_count": null,
      "outputs": []
    },
    {
      "cell_type": "code",
      "source": [
        "tennis['outlook_en']=outlook_en\n",
        "tennis['temp_en']=temp_en\n",
        "tennis['humidity_en']=humidity_en\n",
        "tennis['wind_en']=wind_en\n",
        "tennis['play_en']=play_en"
      ],
      "metadata": {
        "id": "03_tl-mxo3RR"
      },
      "execution_count": null,
      "outputs": []
    },
    {
      "cell_type": "code",
      "source": [
        "tennis.info()"
      ],
      "metadata": {
        "colab": {
          "base_uri": "https://localhost:8080/"
        },
        "id": "8S7HMqwYpzkt",
        "outputId": "ca393ade-920a-44cd-bc09-fdf589016d17"
      },
      "execution_count": null,
      "outputs": [
        {
          "output_type": "stream",
          "name": "stdout",
          "text": [
            "<class 'pandas.core.frame.DataFrame'>\n",
            "RangeIndex: 14 entries, 0 to 13\n",
            "Data columns (total 11 columns):\n",
            " #   Column       Non-Null Count  Dtype \n",
            "---  ------       --------------  ----- \n",
            " 0   day          14 non-null     object\n",
            " 1   outlook      14 non-null     object\n",
            " 2   temp         14 non-null     object\n",
            " 3   humidity     14 non-null     object\n",
            " 4   wind         14 non-null     object\n",
            " 5   play         14 non-null     object\n",
            " 6   outlook_en   14 non-null     int64 \n",
            " 7   temp_en      14 non-null     int64 \n",
            " 8   humidity_en  14 non-null     int64 \n",
            " 9   wind_en      14 non-null     int64 \n",
            " 10  play_en      14 non-null     int64 \n",
            "dtypes: int64(5), object(6)\n",
            "memory usage: 1.3+ KB\n"
          ]
        }
      ]
    },
    {
      "cell_type": "code",
      "source": [
        "tennis"
      ],
      "metadata": {
        "colab": {
          "base_uri": "https://localhost:8080/",
          "height": 488
        },
        "id": "gHfg0mY0pC_a",
        "outputId": "2676ab1c-b2b4-408d-d27b-7199463cee35"
      },
      "execution_count": null,
      "outputs": [
        {
          "output_type": "execute_result",
          "data": {
            "text/plain": [
              "    day   outlook  temp humidity    wind play  outlook_en  temp_en  \\\n",
              "0    D1     Sunny   Hot     High    Weak   No           2        1   \n",
              "1    D2     Sunny   Hot     High  Strong   No           2        1   \n",
              "2    D3  Overcast   Hot     High    Weak  Yes           0        1   \n",
              "3    D4      Rain  Mild     High    Weak  Yes           1        2   \n",
              "4    D5      Rain  Cool   Normal    Weak  Yes           1        0   \n",
              "5    D6      Rain  Cool   Normal  Strong   No           1        0   \n",
              "6    D7  Overcast  Cool   Normal  Strong  Yes           0        0   \n",
              "7    D8     Sunny  Mild     High    Weak   No           2        2   \n",
              "8    D9     Sunny  Cool   Normal    Weak  Yes           2        0   \n",
              "9   D10      Rain  Mild   Normal    Weak  Yes           1        2   \n",
              "10  D11     Sunny  Mild   Normal  Strong  Yes           2        2   \n",
              "11  D12  Overcast  Mild     High  Strong  Yes           0        2   \n",
              "12  D13  Overcast   Hot   Normal    Weak  Yes           0        1   \n",
              "13  D14      Rain  Mild     High  Strong   No           1        2   \n",
              "\n",
              "    humidity_en  wind_en  play_en  \n",
              "0             2        1        0  \n",
              "1             2        0        0  \n",
              "2             0        1        1  \n",
              "3             1        1        1  \n",
              "4             1        1        1  \n",
              "5             1        0        0  \n",
              "6             0        0        1  \n",
              "7             2        1        0  \n",
              "8             2        1        1  \n",
              "9             1        1        1  \n",
              "10            2        0        1  \n",
              "11            0        0        1  \n",
              "12            0        1        1  \n",
              "13            1        0        0  "
            ],
            "text/html": [
              "\n",
              "  <div id=\"df-2ff9a9d8-5959-4b18-aa94-5d7ab4cd01c6\">\n",
              "    <div class=\"colab-df-container\">\n",
              "      <div>\n",
              "<style scoped>\n",
              "    .dataframe tbody tr th:only-of-type {\n",
              "        vertical-align: middle;\n",
              "    }\n",
              "\n",
              "    .dataframe tbody tr th {\n",
              "        vertical-align: top;\n",
              "    }\n",
              "\n",
              "    .dataframe thead th {\n",
              "        text-align: right;\n",
              "    }\n",
              "</style>\n",
              "<table border=\"1\" class=\"dataframe\">\n",
              "  <thead>\n",
              "    <tr style=\"text-align: right;\">\n",
              "      <th></th>\n",
              "      <th>day</th>\n",
              "      <th>outlook</th>\n",
              "      <th>temp</th>\n",
              "      <th>humidity</th>\n",
              "      <th>wind</th>\n",
              "      <th>play</th>\n",
              "      <th>outlook_en</th>\n",
              "      <th>temp_en</th>\n",
              "      <th>humidity_en</th>\n",
              "      <th>wind_en</th>\n",
              "      <th>play_en</th>\n",
              "    </tr>\n",
              "  </thead>\n",
              "  <tbody>\n",
              "    <tr>\n",
              "      <th>0</th>\n",
              "      <td>D1</td>\n",
              "      <td>Sunny</td>\n",
              "      <td>Hot</td>\n",
              "      <td>High</td>\n",
              "      <td>Weak</td>\n",
              "      <td>No</td>\n",
              "      <td>2</td>\n",
              "      <td>1</td>\n",
              "      <td>2</td>\n",
              "      <td>1</td>\n",
              "      <td>0</td>\n",
              "    </tr>\n",
              "    <tr>\n",
              "      <th>1</th>\n",
              "      <td>D2</td>\n",
              "      <td>Sunny</td>\n",
              "      <td>Hot</td>\n",
              "      <td>High</td>\n",
              "      <td>Strong</td>\n",
              "      <td>No</td>\n",
              "      <td>2</td>\n",
              "      <td>1</td>\n",
              "      <td>2</td>\n",
              "      <td>0</td>\n",
              "      <td>0</td>\n",
              "    </tr>\n",
              "    <tr>\n",
              "      <th>2</th>\n",
              "      <td>D3</td>\n",
              "      <td>Overcast</td>\n",
              "      <td>Hot</td>\n",
              "      <td>High</td>\n",
              "      <td>Weak</td>\n",
              "      <td>Yes</td>\n",
              "      <td>0</td>\n",
              "      <td>1</td>\n",
              "      <td>0</td>\n",
              "      <td>1</td>\n",
              "      <td>1</td>\n",
              "    </tr>\n",
              "    <tr>\n",
              "      <th>3</th>\n",
              "      <td>D4</td>\n",
              "      <td>Rain</td>\n",
              "      <td>Mild</td>\n",
              "      <td>High</td>\n",
              "      <td>Weak</td>\n",
              "      <td>Yes</td>\n",
              "      <td>1</td>\n",
              "      <td>2</td>\n",
              "      <td>1</td>\n",
              "      <td>1</td>\n",
              "      <td>1</td>\n",
              "    </tr>\n",
              "    <tr>\n",
              "      <th>4</th>\n",
              "      <td>D5</td>\n",
              "      <td>Rain</td>\n",
              "      <td>Cool</td>\n",
              "      <td>Normal</td>\n",
              "      <td>Weak</td>\n",
              "      <td>Yes</td>\n",
              "      <td>1</td>\n",
              "      <td>0</td>\n",
              "      <td>1</td>\n",
              "      <td>1</td>\n",
              "      <td>1</td>\n",
              "    </tr>\n",
              "    <tr>\n",
              "      <th>5</th>\n",
              "      <td>D6</td>\n",
              "      <td>Rain</td>\n",
              "      <td>Cool</td>\n",
              "      <td>Normal</td>\n",
              "      <td>Strong</td>\n",
              "      <td>No</td>\n",
              "      <td>1</td>\n",
              "      <td>0</td>\n",
              "      <td>1</td>\n",
              "      <td>0</td>\n",
              "      <td>0</td>\n",
              "    </tr>\n",
              "    <tr>\n",
              "      <th>6</th>\n",
              "      <td>D7</td>\n",
              "      <td>Overcast</td>\n",
              "      <td>Cool</td>\n",
              "      <td>Normal</td>\n",
              "      <td>Strong</td>\n",
              "      <td>Yes</td>\n",
              "      <td>0</td>\n",
              "      <td>0</td>\n",
              "      <td>0</td>\n",
              "      <td>0</td>\n",
              "      <td>1</td>\n",
              "    </tr>\n",
              "    <tr>\n",
              "      <th>7</th>\n",
              "      <td>D8</td>\n",
              "      <td>Sunny</td>\n",
              "      <td>Mild</td>\n",
              "      <td>High</td>\n",
              "      <td>Weak</td>\n",
              "      <td>No</td>\n",
              "      <td>2</td>\n",
              "      <td>2</td>\n",
              "      <td>2</td>\n",
              "      <td>1</td>\n",
              "      <td>0</td>\n",
              "    </tr>\n",
              "    <tr>\n",
              "      <th>8</th>\n",
              "      <td>D9</td>\n",
              "      <td>Sunny</td>\n",
              "      <td>Cool</td>\n",
              "      <td>Normal</td>\n",
              "      <td>Weak</td>\n",
              "      <td>Yes</td>\n",
              "      <td>2</td>\n",
              "      <td>0</td>\n",
              "      <td>2</td>\n",
              "      <td>1</td>\n",
              "      <td>1</td>\n",
              "    </tr>\n",
              "    <tr>\n",
              "      <th>9</th>\n",
              "      <td>D10</td>\n",
              "      <td>Rain</td>\n",
              "      <td>Mild</td>\n",
              "      <td>Normal</td>\n",
              "      <td>Weak</td>\n",
              "      <td>Yes</td>\n",
              "      <td>1</td>\n",
              "      <td>2</td>\n",
              "      <td>1</td>\n",
              "      <td>1</td>\n",
              "      <td>1</td>\n",
              "    </tr>\n",
              "    <tr>\n",
              "      <th>10</th>\n",
              "      <td>D11</td>\n",
              "      <td>Sunny</td>\n",
              "      <td>Mild</td>\n",
              "      <td>Normal</td>\n",
              "      <td>Strong</td>\n",
              "      <td>Yes</td>\n",
              "      <td>2</td>\n",
              "      <td>2</td>\n",
              "      <td>2</td>\n",
              "      <td>0</td>\n",
              "      <td>1</td>\n",
              "    </tr>\n",
              "    <tr>\n",
              "      <th>11</th>\n",
              "      <td>D12</td>\n",
              "      <td>Overcast</td>\n",
              "      <td>Mild</td>\n",
              "      <td>High</td>\n",
              "      <td>Strong</td>\n",
              "      <td>Yes</td>\n",
              "      <td>0</td>\n",
              "      <td>2</td>\n",
              "      <td>0</td>\n",
              "      <td>0</td>\n",
              "      <td>1</td>\n",
              "    </tr>\n",
              "    <tr>\n",
              "      <th>12</th>\n",
              "      <td>D13</td>\n",
              "      <td>Overcast</td>\n",
              "      <td>Hot</td>\n",
              "      <td>Normal</td>\n",
              "      <td>Weak</td>\n",
              "      <td>Yes</td>\n",
              "      <td>0</td>\n",
              "      <td>1</td>\n",
              "      <td>0</td>\n",
              "      <td>1</td>\n",
              "      <td>1</td>\n",
              "    </tr>\n",
              "    <tr>\n",
              "      <th>13</th>\n",
              "      <td>D14</td>\n",
              "      <td>Rain</td>\n",
              "      <td>Mild</td>\n",
              "      <td>High</td>\n",
              "      <td>Strong</td>\n",
              "      <td>No</td>\n",
              "      <td>1</td>\n",
              "      <td>2</td>\n",
              "      <td>1</td>\n",
              "      <td>0</td>\n",
              "      <td>0</td>\n",
              "    </tr>\n",
              "  </tbody>\n",
              "</table>\n",
              "</div>\n",
              "      <button class=\"colab-df-convert\" onclick=\"convertToInteractive('df-2ff9a9d8-5959-4b18-aa94-5d7ab4cd01c6')\"\n",
              "              title=\"Convert this dataframe to an interactive table.\"\n",
              "              style=\"display:none;\">\n",
              "        \n",
              "  <svg xmlns=\"http://www.w3.org/2000/svg\" height=\"24px\"viewBox=\"0 0 24 24\"\n",
              "       width=\"24px\">\n",
              "    <path d=\"M0 0h24v24H0V0z\" fill=\"none\"/>\n",
              "    <path d=\"M18.56 5.44l.94 2.06.94-2.06 2.06-.94-2.06-.94-.94-2.06-.94 2.06-2.06.94zm-11 1L8.5 8.5l.94-2.06 2.06-.94-2.06-.94L8.5 2.5l-.94 2.06-2.06.94zm10 10l.94 2.06.94-2.06 2.06-.94-2.06-.94-.94-2.06-.94 2.06-2.06.94z\"/><path d=\"M17.41 7.96l-1.37-1.37c-.4-.4-.92-.59-1.43-.59-.52 0-1.04.2-1.43.59L10.3 9.45l-7.72 7.72c-.78.78-.78 2.05 0 2.83L4 21.41c.39.39.9.59 1.41.59.51 0 1.02-.2 1.41-.59l7.78-7.78 2.81-2.81c.8-.78.8-2.07 0-2.86zM5.41 20L4 18.59l7.72-7.72 1.47 1.35L5.41 20z\"/>\n",
              "  </svg>\n",
              "      </button>\n",
              "      \n",
              "  <style>\n",
              "    .colab-df-container {\n",
              "      display:flex;\n",
              "      flex-wrap:wrap;\n",
              "      gap: 12px;\n",
              "    }\n",
              "\n",
              "    .colab-df-convert {\n",
              "      background-color: #E8F0FE;\n",
              "      border: none;\n",
              "      border-radius: 50%;\n",
              "      cursor: pointer;\n",
              "      display: none;\n",
              "      fill: #1967D2;\n",
              "      height: 32px;\n",
              "      padding: 0 0 0 0;\n",
              "      width: 32px;\n",
              "    }\n",
              "\n",
              "    .colab-df-convert:hover {\n",
              "      background-color: #E2EBFA;\n",
              "      box-shadow: 0px 1px 2px rgba(60, 64, 67, 0.3), 0px 1px 3px 1px rgba(60, 64, 67, 0.15);\n",
              "      fill: #174EA6;\n",
              "    }\n",
              "\n",
              "    [theme=dark] .colab-df-convert {\n",
              "      background-color: #3B4455;\n",
              "      fill: #D2E3FC;\n",
              "    }\n",
              "\n",
              "    [theme=dark] .colab-df-convert:hover {\n",
              "      background-color: #434B5C;\n",
              "      box-shadow: 0px 1px 3px 1px rgba(0, 0, 0, 0.15);\n",
              "      filter: drop-shadow(0px 1px 2px rgba(0, 0, 0, 0.3));\n",
              "      fill: #FFFFFF;\n",
              "    }\n",
              "  </style>\n",
              "\n",
              "      <script>\n",
              "        const buttonEl =\n",
              "          document.querySelector('#df-2ff9a9d8-5959-4b18-aa94-5d7ab4cd01c6 button.colab-df-convert');\n",
              "        buttonEl.style.display =\n",
              "          google.colab.kernel.accessAllowed ? 'block' : 'none';\n",
              "\n",
              "        async function convertToInteractive(key) {\n",
              "          const element = document.querySelector('#df-2ff9a9d8-5959-4b18-aa94-5d7ab4cd01c6');\n",
              "          const dataTable =\n",
              "            await google.colab.kernel.invokeFunction('convertToInteractive',\n",
              "                                                     [key], {});\n",
              "          if (!dataTable) return;\n",
              "\n",
              "          const docLinkHtml = 'Like what you see? Visit the ' +\n",
              "            '<a target=\"_blank\" href=https://colab.research.google.com/notebooks/data_table.ipynb>data table notebook</a>'\n",
              "            + ' to learn more about interactive tables.';\n",
              "          element.innerHTML = '';\n",
              "          dataTable['output_type'] = 'display_data';\n",
              "          await google.colab.output.renderOutput(dataTable, element);\n",
              "          const docLink = document.createElement('div');\n",
              "          docLink.innerHTML = docLinkHtml;\n",
              "          element.appendChild(docLink);\n",
              "        }\n",
              "      </script>\n",
              "    </div>\n",
              "  </div>\n",
              "  "
            ]
          },
          "metadata": {},
          "execution_count": 137
        }
      ]
    },
    {
      "cell_type": "code",
      "metadata": {
        "id": "ST6ggMAYez-3"
      },
      "source": [
        "# # Categorical Variable to Numeric\n",
        "# outlookC=pd.DataFrame(tennis['outlook'].astype('category').cat.codes,columns=['outlookC'])\n",
        "# tempC=pd.DataFrame(tennis['temp'].astype('category').cat.codes,columns=['tempC'])\n",
        "# humidityC=pd.DataFrame(tennis['humidity'].astype('category').cat.codes,columns=['humidityC'])\n",
        "# windC=pd.DataFrame(tennis['wind'].astype('category').cat.codes,columns=['windC'])\n",
        "# playC=pd.DataFrame(tennis['play'].astype('category').cat.codes,columns=['playC'])\n",
        "# tennisC=pd.concat([outlookC,tempC,humidityC,windC,playC],axis=1)\n",
        "# tennis=pd.concat([tennis,tennisC],axis=1)\n",
        "# tennis"
      ],
      "execution_count": null,
      "outputs": []
    },
    {
      "cell_type": "markdown",
      "metadata": {
        "id": "kSJVQFXBAyVj"
      },
      "source": [
        "***Model Construction***"
      ]
    },
    {
      "cell_type": "code",
      "metadata": {
        "id": "m_tC9b-9QtPq"
      },
      "source": [
        "\n",
        "X=tennis[['outlook_en','temp_en','humidity_en','wind_en']]\n",
        "Y=tennis['play_en']"
      ],
      "execution_count": null,
      "outputs": []
    },
    {
      "cell_type": "code",
      "metadata": {
        "id": "5B7qcqKBSdO7"
      },
      "source": [
        "from sklearn.naive_bayes import CategoricalNB\n"
      ],
      "execution_count": null,
      "outputs": []
    },
    {
      "cell_type": "code",
      "metadata": {
        "id": "bbqTP5b0TCNT"
      },
      "source": [
        "cnb=CategoricalNB(alpha=1,)"
      ],
      "execution_count": null,
      "outputs": []
    },
    {
      "cell_type": "code",
      "metadata": {
        "id": "bszi-CCfTPhi",
        "colab": {
          "base_uri": "https://localhost:8080/",
          "height": 75
        },
        "outputId": "fcb4dd92-d253-4296-e71c-2726d20525a3"
      },
      "source": [
        "cnb.fit(X,Y)"
      ],
      "execution_count": null,
      "outputs": [
        {
          "output_type": "execute_result",
          "data": {
            "text/plain": [
              "CategoricalNB(alpha=1)"
            ],
            "text/html": [
              "<style>#sk-container-id-4 {color: black;background-color: white;}#sk-container-id-4 pre{padding: 0;}#sk-container-id-4 div.sk-toggleable {background-color: white;}#sk-container-id-4 label.sk-toggleable__label {cursor: pointer;display: block;width: 100%;margin-bottom: 0;padding: 0.3em;box-sizing: border-box;text-align: center;}#sk-container-id-4 label.sk-toggleable__label-arrow:before {content: \"▸\";float: left;margin-right: 0.25em;color: #696969;}#sk-container-id-4 label.sk-toggleable__label-arrow:hover:before {color: black;}#sk-container-id-4 div.sk-estimator:hover label.sk-toggleable__label-arrow:before {color: black;}#sk-container-id-4 div.sk-toggleable__content {max-height: 0;max-width: 0;overflow: hidden;text-align: left;background-color: #f0f8ff;}#sk-container-id-4 div.sk-toggleable__content pre {margin: 0.2em;color: black;border-radius: 0.25em;background-color: #f0f8ff;}#sk-container-id-4 input.sk-toggleable__control:checked~div.sk-toggleable__content {max-height: 200px;max-width: 100%;overflow: auto;}#sk-container-id-4 input.sk-toggleable__control:checked~label.sk-toggleable__label-arrow:before {content: \"▾\";}#sk-container-id-4 div.sk-estimator input.sk-toggleable__control:checked~label.sk-toggleable__label {background-color: #d4ebff;}#sk-container-id-4 div.sk-label input.sk-toggleable__control:checked~label.sk-toggleable__label {background-color: #d4ebff;}#sk-container-id-4 input.sk-hidden--visually {border: 0;clip: rect(1px 1px 1px 1px);clip: rect(1px, 1px, 1px, 1px);height: 1px;margin: -1px;overflow: hidden;padding: 0;position: absolute;width: 1px;}#sk-container-id-4 div.sk-estimator {font-family: monospace;background-color: #f0f8ff;border: 1px dotted black;border-radius: 0.25em;box-sizing: border-box;margin-bottom: 0.5em;}#sk-container-id-4 div.sk-estimator:hover {background-color: #d4ebff;}#sk-container-id-4 div.sk-parallel-item::after {content: \"\";width: 100%;border-bottom: 1px solid gray;flex-grow: 1;}#sk-container-id-4 div.sk-label:hover label.sk-toggleable__label {background-color: #d4ebff;}#sk-container-id-4 div.sk-serial::before {content: \"\";position: absolute;border-left: 1px solid gray;box-sizing: border-box;top: 0;bottom: 0;left: 50%;z-index: 0;}#sk-container-id-4 div.sk-serial {display: flex;flex-direction: column;align-items: center;background-color: white;padding-right: 0.2em;padding-left: 0.2em;position: relative;}#sk-container-id-4 div.sk-item {position: relative;z-index: 1;}#sk-container-id-4 div.sk-parallel {display: flex;align-items: stretch;justify-content: center;background-color: white;position: relative;}#sk-container-id-4 div.sk-item::before, #sk-container-id-4 div.sk-parallel-item::before {content: \"\";position: absolute;border-left: 1px solid gray;box-sizing: border-box;top: 0;bottom: 0;left: 50%;z-index: -1;}#sk-container-id-4 div.sk-parallel-item {display: flex;flex-direction: column;z-index: 1;position: relative;background-color: white;}#sk-container-id-4 div.sk-parallel-item:first-child::after {align-self: flex-end;width: 50%;}#sk-container-id-4 div.sk-parallel-item:last-child::after {align-self: flex-start;width: 50%;}#sk-container-id-4 div.sk-parallel-item:only-child::after {width: 0;}#sk-container-id-4 div.sk-dashed-wrapped {border: 1px dashed gray;margin: 0 0.4em 0.5em 0.4em;box-sizing: border-box;padding-bottom: 0.4em;background-color: white;}#sk-container-id-4 div.sk-label label {font-family: monospace;font-weight: bold;display: inline-block;line-height: 1.2em;}#sk-container-id-4 div.sk-label-container {text-align: center;}#sk-container-id-4 div.sk-container {/* jupyter's `normalize.less` sets `[hidden] { display: none; }` but bootstrap.min.css set `[hidden] { display: none !important; }` so we also need the `!important` here to be able to override the default hidden behavior on the sphinx rendered scikit-learn.org. See: https://github.com/scikit-learn/scikit-learn/issues/21755 */display: inline-block !important;position: relative;}#sk-container-id-4 div.sk-text-repr-fallback {display: none;}</style><div id=\"sk-container-id-4\" class=\"sk-top-container\"><div class=\"sk-text-repr-fallback\"><pre>CategoricalNB(alpha=1)</pre><b>In a Jupyter environment, please rerun this cell to show the HTML representation or trust the notebook. <br />On GitHub, the HTML representation is unable to render, please try loading this page with nbviewer.org.</b></div><div class=\"sk-container\" hidden><div class=\"sk-item\"><div class=\"sk-estimator sk-toggleable\"><input class=\"sk-toggleable__control sk-hidden--visually\" id=\"sk-estimator-id-4\" type=\"checkbox\" checked><label for=\"sk-estimator-id-4\" class=\"sk-toggleable__label sk-toggleable__label-arrow\">CategoricalNB</label><div class=\"sk-toggleable__content\"><pre>CategoricalNB(alpha=1)</pre></div></div></div></div></div>"
            ]
          },
          "metadata": {},
          "execution_count": 142
        }
      ]
    },
    {
      "cell_type": "code",
      "metadata": {
        "id": "tK7ouI_6lhVO",
        "colab": {
          "base_uri": "https://localhost:8080/"
        },
        "outputId": "09506938-bdc7-45f6-e6af-684a0cf97368"
      },
      "source": [
        "cnb.get_params()"
      ],
      "execution_count": null,
      "outputs": [
        {
          "output_type": "execute_result",
          "data": {
            "text/plain": [
              "{'alpha': 1,\n",
              " 'class_prior': None,\n",
              " 'fit_prior': True,\n",
              " 'force_alpha': 'warn',\n",
              " 'min_categories': None}"
            ]
          },
          "metadata": {},
          "execution_count": 143
        }
      ]
    },
    {
      "cell_type": "code",
      "source": [
        "le_out.classes_"
      ],
      "metadata": {
        "colab": {
          "base_uri": "https://localhost:8080/"
        },
        "id": "3Kp2bpp9tRNl",
        "outputId": "e66da124-55ca-4987-aaa1-cf35927e3dee"
      },
      "execution_count": null,
      "outputs": [
        {
          "output_type": "execute_result",
          "data": {
            "text/plain": [
              "array(['Overcast', 'Rain', 'Sunny'], dtype=object)"
            ]
          },
          "metadata": {},
          "execution_count": 144
        }
      ]
    },
    {
      "cell_type": "code",
      "metadata": {
        "id": "bLf__ArqBUkC",
        "colab": {
          "base_uri": "https://localhost:8080/"
        },
        "outputId": "2f869628-ea2c-4b2f-b916-94e1009b7f1d"
      },
      "source": [
        "cnb.category_count_"
      ],
      "execution_count": null,
      "outputs": [
        {
          "output_type": "execute_result",
          "data": {
            "text/plain": [
              "[array([[0., 2., 3.],\n",
              "        [4., 3., 2.]]),\n",
              " array([[1., 2., 2.],\n",
              "        [3., 2., 4.]]),\n",
              " array([[0., 2., 3.],\n",
              "        [4., 3., 2.]]),\n",
              " array([[3., 2.],\n",
              "        [3., 6.]])]"
            ]
          },
          "metadata": {},
          "execution_count": 145
        }
      ]
    },
    {
      "cell_type": "code",
      "metadata": {
        "id": "V5V9T6YIDmvL",
        "colab": {
          "base_uri": "https://localhost:8080/"
        },
        "outputId": "96afc3ed-0c19-4149-c0e9-b28154bf2088"
      },
      "source": [
        "cnb.class_count_"
      ],
      "execution_count": null,
      "outputs": [
        {
          "output_type": "execute_result",
          "data": {
            "text/plain": [
              "array([5., 9.])"
            ]
          },
          "metadata": {},
          "execution_count": 146
        }
      ]
    },
    {
      "cell_type": "code",
      "metadata": {
        "id": "ftXCcvc0D4YG",
        "colab": {
          "base_uri": "https://localhost:8080/"
        },
        "outputId": "9773e9ce-ed38-4971-ac2b-4eeb0560cf8c"
      },
      "source": [
        "cnb.classes_"
      ],
      "execution_count": null,
      "outputs": [
        {
          "output_type": "execute_result",
          "data": {
            "text/plain": [
              "array([0, 1])"
            ]
          },
          "metadata": {},
          "execution_count": 147
        }
      ]
    },
    {
      "cell_type": "code",
      "metadata": {
        "id": "LIYQyzGFEpfz",
        "colab": {
          "base_uri": "https://localhost:8080/"
        },
        "outputId": "0b7d4068-98bf-4481-8be5-da4f5b530b06"
      },
      "source": [
        "cnb.n_features_in_"
      ],
      "execution_count": null,
      "outputs": [
        {
          "output_type": "execute_result",
          "data": {
            "text/plain": [
              "4"
            ]
          },
          "metadata": {},
          "execution_count": 148
        }
      ]
    },
    {
      "cell_type": "code",
      "source": [
        "cnb.feature_names_in_"
      ],
      "metadata": {
        "colab": {
          "base_uri": "https://localhost:8080/"
        },
        "id": "yh8CxJCfu6LG",
        "outputId": "d115028d-a11e-40c4-f48e-f45e2f0686d3"
      },
      "execution_count": null,
      "outputs": [
        {
          "output_type": "execute_result",
          "data": {
            "text/plain": [
              "array(['outlook_en', 'temp_en', 'humidity_en', 'wind_en'], dtype=object)"
            ]
          },
          "metadata": {},
          "execution_count": 149
        }
      ]
    },
    {
      "cell_type": "markdown",
      "metadata": {
        "id": "wMWQ3Oy9FJna"
      },
      "source": [
        "***Model Testing***"
      ]
    },
    {
      "cell_type": "code",
      "metadata": {
        "id": "enEwOUiXJ-ir",
        "colab": {
          "base_uri": "https://localhost:8080/",
          "height": 488
        },
        "outputId": "205171b3-681f-49b4-e859-55cce95cacff"
      },
      "source": [
        "X"
      ],
      "execution_count": null,
      "outputs": [
        {
          "output_type": "execute_result",
          "data": {
            "text/plain": [
              "    outlook_en  temp_en  humidity_en  wind_en\n",
              "0            2        1            2        1\n",
              "1            2        1            2        0\n",
              "2            0        1            0        1\n",
              "3            1        2            1        1\n",
              "4            1        0            1        1\n",
              "5            1        0            1        0\n",
              "6            0        0            0        0\n",
              "7            2        2            2        1\n",
              "8            2        0            2        1\n",
              "9            1        2            1        1\n",
              "10           2        2            2        0\n",
              "11           0        2            0        0\n",
              "12           0        1            0        1\n",
              "13           1        2            1        0"
            ],
            "text/html": [
              "\n",
              "  <div id=\"df-fce9e899-2ca8-4c99-b28f-3642b89479b9\">\n",
              "    <div class=\"colab-df-container\">\n",
              "      <div>\n",
              "<style scoped>\n",
              "    .dataframe tbody tr th:only-of-type {\n",
              "        vertical-align: middle;\n",
              "    }\n",
              "\n",
              "    .dataframe tbody tr th {\n",
              "        vertical-align: top;\n",
              "    }\n",
              "\n",
              "    .dataframe thead th {\n",
              "        text-align: right;\n",
              "    }\n",
              "</style>\n",
              "<table border=\"1\" class=\"dataframe\">\n",
              "  <thead>\n",
              "    <tr style=\"text-align: right;\">\n",
              "      <th></th>\n",
              "      <th>outlook_en</th>\n",
              "      <th>temp_en</th>\n",
              "      <th>humidity_en</th>\n",
              "      <th>wind_en</th>\n",
              "    </tr>\n",
              "  </thead>\n",
              "  <tbody>\n",
              "    <tr>\n",
              "      <th>0</th>\n",
              "      <td>2</td>\n",
              "      <td>1</td>\n",
              "      <td>2</td>\n",
              "      <td>1</td>\n",
              "    </tr>\n",
              "    <tr>\n",
              "      <th>1</th>\n",
              "      <td>2</td>\n",
              "      <td>1</td>\n",
              "      <td>2</td>\n",
              "      <td>0</td>\n",
              "    </tr>\n",
              "    <tr>\n",
              "      <th>2</th>\n",
              "      <td>0</td>\n",
              "      <td>1</td>\n",
              "      <td>0</td>\n",
              "      <td>1</td>\n",
              "    </tr>\n",
              "    <tr>\n",
              "      <th>3</th>\n",
              "      <td>1</td>\n",
              "      <td>2</td>\n",
              "      <td>1</td>\n",
              "      <td>1</td>\n",
              "    </tr>\n",
              "    <tr>\n",
              "      <th>4</th>\n",
              "      <td>1</td>\n",
              "      <td>0</td>\n",
              "      <td>1</td>\n",
              "      <td>1</td>\n",
              "    </tr>\n",
              "    <tr>\n",
              "      <th>5</th>\n",
              "      <td>1</td>\n",
              "      <td>0</td>\n",
              "      <td>1</td>\n",
              "      <td>0</td>\n",
              "    </tr>\n",
              "    <tr>\n",
              "      <th>6</th>\n",
              "      <td>0</td>\n",
              "      <td>0</td>\n",
              "      <td>0</td>\n",
              "      <td>0</td>\n",
              "    </tr>\n",
              "    <tr>\n",
              "      <th>7</th>\n",
              "      <td>2</td>\n",
              "      <td>2</td>\n",
              "      <td>2</td>\n",
              "      <td>1</td>\n",
              "    </tr>\n",
              "    <tr>\n",
              "      <th>8</th>\n",
              "      <td>2</td>\n",
              "      <td>0</td>\n",
              "      <td>2</td>\n",
              "      <td>1</td>\n",
              "    </tr>\n",
              "    <tr>\n",
              "      <th>9</th>\n",
              "      <td>1</td>\n",
              "      <td>2</td>\n",
              "      <td>1</td>\n",
              "      <td>1</td>\n",
              "    </tr>\n",
              "    <tr>\n",
              "      <th>10</th>\n",
              "      <td>2</td>\n",
              "      <td>2</td>\n",
              "      <td>2</td>\n",
              "      <td>0</td>\n",
              "    </tr>\n",
              "    <tr>\n",
              "      <th>11</th>\n",
              "      <td>0</td>\n",
              "      <td>2</td>\n",
              "      <td>0</td>\n",
              "      <td>0</td>\n",
              "    </tr>\n",
              "    <tr>\n",
              "      <th>12</th>\n",
              "      <td>0</td>\n",
              "      <td>1</td>\n",
              "      <td>0</td>\n",
              "      <td>1</td>\n",
              "    </tr>\n",
              "    <tr>\n",
              "      <th>13</th>\n",
              "      <td>1</td>\n",
              "      <td>2</td>\n",
              "      <td>1</td>\n",
              "      <td>0</td>\n",
              "    </tr>\n",
              "  </tbody>\n",
              "</table>\n",
              "</div>\n",
              "      <button class=\"colab-df-convert\" onclick=\"convertToInteractive('df-fce9e899-2ca8-4c99-b28f-3642b89479b9')\"\n",
              "              title=\"Convert this dataframe to an interactive table.\"\n",
              "              style=\"display:none;\">\n",
              "        \n",
              "  <svg xmlns=\"http://www.w3.org/2000/svg\" height=\"24px\"viewBox=\"0 0 24 24\"\n",
              "       width=\"24px\">\n",
              "    <path d=\"M0 0h24v24H0V0z\" fill=\"none\"/>\n",
              "    <path d=\"M18.56 5.44l.94 2.06.94-2.06 2.06-.94-2.06-.94-.94-2.06-.94 2.06-2.06.94zm-11 1L8.5 8.5l.94-2.06 2.06-.94-2.06-.94L8.5 2.5l-.94 2.06-2.06.94zm10 10l.94 2.06.94-2.06 2.06-.94-2.06-.94-.94-2.06-.94 2.06-2.06.94z\"/><path d=\"M17.41 7.96l-1.37-1.37c-.4-.4-.92-.59-1.43-.59-.52 0-1.04.2-1.43.59L10.3 9.45l-7.72 7.72c-.78.78-.78 2.05 0 2.83L4 21.41c.39.39.9.59 1.41.59.51 0 1.02-.2 1.41-.59l7.78-7.78 2.81-2.81c.8-.78.8-2.07 0-2.86zM5.41 20L4 18.59l7.72-7.72 1.47 1.35L5.41 20z\"/>\n",
              "  </svg>\n",
              "      </button>\n",
              "      \n",
              "  <style>\n",
              "    .colab-df-container {\n",
              "      display:flex;\n",
              "      flex-wrap:wrap;\n",
              "      gap: 12px;\n",
              "    }\n",
              "\n",
              "    .colab-df-convert {\n",
              "      background-color: #E8F0FE;\n",
              "      border: none;\n",
              "      border-radius: 50%;\n",
              "      cursor: pointer;\n",
              "      display: none;\n",
              "      fill: #1967D2;\n",
              "      height: 32px;\n",
              "      padding: 0 0 0 0;\n",
              "      width: 32px;\n",
              "    }\n",
              "\n",
              "    .colab-df-convert:hover {\n",
              "      background-color: #E2EBFA;\n",
              "      box-shadow: 0px 1px 2px rgba(60, 64, 67, 0.3), 0px 1px 3px 1px rgba(60, 64, 67, 0.15);\n",
              "      fill: #174EA6;\n",
              "    }\n",
              "\n",
              "    [theme=dark] .colab-df-convert {\n",
              "      background-color: #3B4455;\n",
              "      fill: #D2E3FC;\n",
              "    }\n",
              "\n",
              "    [theme=dark] .colab-df-convert:hover {\n",
              "      background-color: #434B5C;\n",
              "      box-shadow: 0px 1px 3px 1px rgba(0, 0, 0, 0.15);\n",
              "      filter: drop-shadow(0px 1px 2px rgba(0, 0, 0, 0.3));\n",
              "      fill: #FFFFFF;\n",
              "    }\n",
              "  </style>\n",
              "\n",
              "      <script>\n",
              "        const buttonEl =\n",
              "          document.querySelector('#df-fce9e899-2ca8-4c99-b28f-3642b89479b9 button.colab-df-convert');\n",
              "        buttonEl.style.display =\n",
              "          google.colab.kernel.accessAllowed ? 'block' : 'none';\n",
              "\n",
              "        async function convertToInteractive(key) {\n",
              "          const element = document.querySelector('#df-fce9e899-2ca8-4c99-b28f-3642b89479b9');\n",
              "          const dataTable =\n",
              "            await google.colab.kernel.invokeFunction('convertToInteractive',\n",
              "                                                     [key], {});\n",
              "          if (!dataTable) return;\n",
              "\n",
              "          const docLinkHtml = 'Like what you see? Visit the ' +\n",
              "            '<a target=\"_blank\" href=https://colab.research.google.com/notebooks/data_table.ipynb>data table notebook</a>'\n",
              "            + ' to learn more about interactive tables.';\n",
              "          element.innerHTML = '';\n",
              "          dataTable['output_type'] = 'display_data';\n",
              "          await google.colab.output.renderOutput(dataTable, element);\n",
              "          const docLink = document.createElement('div');\n",
              "          docLink.innerHTML = docLinkHtml;\n",
              "          element.appendChild(docLink);\n",
              "        }\n",
              "      </script>\n",
              "    </div>\n",
              "  </div>\n",
              "  "
            ]
          },
          "metadata": {},
          "execution_count": 150
        }
      ]
    },
    {
      "cell_type": "code",
      "metadata": {
        "id": "Ui3ZwB96FPUz",
        "colab": {
          "base_uri": "https://localhost:8080/"
        },
        "outputId": "19c28ae7-fca2-4ada-d583-ede3fce23ea6"
      },
      "source": [
        "Play_pre=cnb.predict(X)\n",
        "Play_pre"
      ],
      "execution_count": null,
      "outputs": [
        {
          "output_type": "execute_result",
          "data": {
            "text/plain": [
              "array([0, 0, 1, 1, 1, 1, 1, 0, 0, 1, 0, 1, 1, 1])"
            ]
          },
          "metadata": {},
          "execution_count": 151
        }
      ]
    },
    {
      "cell_type": "code",
      "metadata": {
        "id": "FIyCl9gGgyYi",
        "colab": {
          "base_uri": "https://localhost:8080/"
        },
        "outputId": "cb971f06-f033-4914-b8e8-6c02d31174df"
      },
      "source": [
        "from sklearn.metrics import confusion_matrix\n",
        "cm=confusion_matrix(Y, Play_pre)\n",
        "cm"
      ],
      "execution_count": null,
      "outputs": [
        {
          "output_type": "execute_result",
          "data": {
            "text/plain": [
              "array([[3, 2],\n",
              "       [2, 7]])"
            ]
          },
          "metadata": {},
          "execution_count": 152
        }
      ]
    },
    {
      "cell_type": "code",
      "metadata": {
        "id": "xyFEC2yhhgkP"
      },
      "source": [
        "from sklearn.metrics import ConfusionMatrixDisplay, accuracy_score"
      ],
      "execution_count": null,
      "outputs": []
    },
    {
      "cell_type": "code",
      "source": [
        "ConfusionMatrixDisplay(cm,display_labels=['No','Yes']).plot()"
      ],
      "metadata": {
        "colab": {
          "base_uri": "https://localhost:8080/",
          "height": 472
        },
        "id": "2f5ZkusbwQ2B",
        "outputId": "e7201ec8-2c70-43c4-b368-d3f32d0c4147"
      },
      "execution_count": null,
      "outputs": [
        {
          "output_type": "execute_result",
          "data": {
            "text/plain": [
              "<sklearn.metrics._plot.confusion_matrix.ConfusionMatrixDisplay at 0x7faee0836850>"
            ]
          },
          "metadata": {},
          "execution_count": 154
        },
        {
          "output_type": "display_data",
          "data": {
            "text/plain": [
              "<Figure size 640x480 with 2 Axes>"
            ],
            "image/png": "[encoded data removed]"
          },
          "metadata": {}
        }
      ]
    },
    {
      "cell_type": "code",
      "source": [
        "accuracy_score(Y, Play_pre)"
      ],
      "metadata": {
        "colab": {
          "base_uri": "https://localhost:8080/"
        },
        "id": "ACU_oQqXCgbs",
        "outputId": "74065f95-777d-4054-8739-926c968c3758"
      },
      "execution_count": null,
      "outputs": [
        {
          "output_type": "execute_result",
          "data": {
            "text/plain": [
              "0.7142857142857143"
            ]
          },
          "metadata": {},
          "execution_count": 155
        }
      ]
    },
    {
      "cell_type": "markdown",
      "metadata": {
        "id": "NTaUuFS9C0OZ"
      },
      "source": [
        "# ***Gaussian Naive Bayes for IRIS Data***"
      ]
    },
    {
      "cell_type": "markdown",
      "metadata": {
        "id": "8-0SAxEPfTbe"
      },
      "source": [
        "***IRIS Data***"
      ]
    },
    {
      "cell_type": "code",
      "metadata": {
        "id": "42ij0jQ9nnvx",
        "colab": {
          "base_uri": "https://localhost:8080/"
        },
        "outputId": "9b61f406-2989-46d6-b6b4-cd122528e08a"
      },
      "source": [
        "from sklearn import datasets\n",
        "iris=datasets.load_iris()\n",
        "iris.data.shape\n",
        "iris"
      ],
      "execution_count": null,
      "outputs": [
        {
          "output_type": "execute_result",
          "data": {
            "text/plain": [
              "{'data': array([[5.1, 3.5, 1.4, 0.2],\n",
              "        [4.9, 3. , 1.4, 0.2],\n",
              "        [4.7, 3.2, 1.3, 0.2],\n",
              "        [4.6, 3.1, 1.5, 0.2],\n",
              "        [5. , 3.6, 1.4, 0.2],\n",
              "        [5.4, 3.9, 1.7, 0.4],\n",
              "        [4.6, 3.4, 1.4, 0.3],\n",
              "        [5. , 3.4, 1.5, 0.2],\n",
              "        [4.4, 2.9, 1.4, 0.2],\n",
              "        [4.9, 3.1, 1.5, 0.1],\n",
              "        [5.4, 3.7, 1.5, 0.2],\n",
              "        [4.8, 3.4, 1.6, 0.2],\n",
              "        [4.8, 3. , 1.4, 0.1],\n",
              "        [4.3, 3. , 1.1, 0.1],\n",
              "        [5.8, 4. , 1.2, 0.2],\n",
              "        [5.7, 4.4, 1.5, 0.4],\n",
              "        [5.4, 3.9, 1.3, 0.4],\n",
              "        [5.1, 3.5, 1.4, 0.3],\n",
              "        [5.7, 3.8, 1.7, 0.3],\n",
              "        [5.1, 3.8, 1.5, 0.3],\n",
              "        [5.4, 3.4, 1.7, 0.2],\n",
              "        [5.1, 3.7, 1.5, 0.4],\n",
              "        [4.6, 3.6, 1. , 0.2],\n",
              "        [5.1, 3.3, 1.7, 0.5],\n",
              "        [4.8, 3.4, 1.9, 0.2],\n",
              "        [5. , 3. , 1.6, 0.2],\n",
              "        [5. , 3.4, 1.6, 0.4],\n",
              "        [5.2, 3.5, 1.5, 0.2],\n",
              "        [5.2, 3.4, 1.4, 0.2],\n",
              "        [4.7, 3.2, 1.6, 0.2],\n",
              "        [4.8, 3.1, 1.6, 0.2],\n",
              "        [5.4, 3.4, 1.5, 0.4],\n",
              "        [5.2, 4.1, 1.5, 0.1],\n",
              "        [5.5, 4.2, 1.4, 0.2],\n",
              "        [4.9, 3.1, 1.5, 0.2],\n",
              "        [5. , 3.2, 1.2, 0.2],\n",
              "        [5.5, 3.5, 1.3, 0.2],\n",
              "        [4.9, 3.6, 1.4, 0.1],\n",
              "        [4.4, 3. , 1.3, 0.2],\n",
              "        [5.1, 3.4, 1.5, 0.2],\n",
              "        [5. , 3.5, 1.3, 0.3],\n",
              "        [4.5, 2.3, 1.3, 0.3],\n",
              "        [4.4, 3.2, 1.3, 0.2],\n",
              "        [5. , 3.5, 1.6, 0.6],\n",
              "        [5.1, 3.8, 1.9, 0.4],\n",
              "        [4.8, 3. , 1.4, 0.3],\n",
              "        [5.1, 3.8, 1.6, 0.2],\n",
              "        [4.6, 3.2, 1.4, 0.2],\n",
              "        [5.3, 3.7, 1.5, 0.2],\n",
              "        [5. , 3.3, 1.4, 0.2],\n",
              "        [7. , 3.2, 4.7, 1.4],\n",
              "        [6.4, 3.2, 4.5, 1.5],\n",
              "        [6.9, 3.1, 4.9, 1.5],\n",
              "        [5.5, 2.3, 4. , 1.3],\n",
              "        [6.5, 2.8, 4.6, 1.5],\n",
              "        [5.7, 2.8, 4.5, 1.3],\n",
              "        [6.3, 3.3, 4.7, 1.6],\n",
              "        [4.9, 2.4, 3.3, 1. ],\n",
              "        [6.6, 2.9, 4.6, 1.3],\n",
              "        [5.2, 2.7, 3.9, 1.4],\n",
              "        [5. , 2. , 3.5, 1. ],\n",
              "        [5.9, 3. , 4.2, 1.5],\n",
              "        [6. , 2.2, 4. , 1. ],\n",
              "        [6.1, 2.9, 4.7, 1.4],\n",
              "        [5.6, 2.9, 3.6, 1.3],\n",
              "        [6.7, 3.1, 4.4, 1.4],\n",
              "        [5.6, 3. , 4.5, 1.5],\n",
              "        [5.8, 2.7, 4.1, 1. ],\n",
              "        [6.2, 2.2, 4.5, 1.5],\n",
              "        [5.6, 2.5, 3.9, 1.1],\n",
              "        [5.9, 3.2, 4.8, 1.8],\n",
              "        [6.1, 2.8, 4. , 1.3],\n",
              "        [6.3, 2.5, 4.9, 1.5],\n",
              "        [6.1, 2.8, 4.7, 1.2],\n",
              "        [6.4, 2.9, 4.3, 1.3],\n",
              "        [6.6, 3. , 4.4, 1.4],\n",
              "        [6.8, 2.8, 4.8, 1.4],\n",
              "        [6.7, 3. , 5. , 1.7],\n",
              "        [6. , 2.9, 4.5, 1.5],\n",
              "        [5.7, 2.6, 3.5, 1. ],\n",
              "        [5.5, 2.4, 3.8, 1.1],\n",
              "        [5.5, 2.4, 3.7, 1. ],\n",
              "        [5.8, 2.7, 3.9, 1.2],\n",
              "        [6. , 2.7, 5.1, 1.6],\n",
              "        [5.4, 3. , 4.5, 1.5],\n",
              "        [6. , 3.4, 4.5, 1.6],\n",
              "        [6.7, 3.1, 4.7, 1.5],\n",
              "        [6.3, 2.3, 4.4, 1.3],\n",
              "        [5.6, 3. , 4.1, 1.3],\n",
              "        [5.5, 2.5, 4. , 1.3],\n",
              "        [5.5, 2.6, 4.4, 1.2],\n",
              "        [6.1, 3. , 4.6, 1.4],\n",
              "        [5.8, 2.6, 4. , 1.2],\n",
              "        [5. , 2.3, 3.3, 1. ],\n",
              "        [5.6, 2.7, 4.2, 1.3],\n",
              "        [5.7, 3. , 4.2, 1.2],\n",
              "        [5.7, 2.9, 4.2, 1.3],\n",
              "        [6.2, 2.9, 4.3, 1.3],\n",
              "        [5.1, 2.5, 3. , 1.1],\n",
              "        [5.7, 2.8, 4.1, 1.3],\n",
              "        [6.3, 3.3, 6. , 2.5],\n",
              "        [5.8, 2.7, 5.1, 1.9],\n",
              "        [7.1, 3. , 5.9, 2.1],\n",
              "        [6.3, 2.9, 5.6, 1.8],\n",
              "        [6.5, 3. , 5.8, 2.2],\n",
              "        [7.6, 3. , 6.6, 2.1],\n",
              "        [4.9, 2.5, 4.5, 1.7],\n",
              "        [7.3, 2.9, 6.3, 1.8],\n",
              "        [6.7, 2.5, 5.8, 1.8],\n",
              "        [7.2, 3.6, 6.1, 2.5],\n",
              "        [6.5, 3.2, 5.1, 2. ],\n",
              "        [6.4, 2.7, 5.3, 1.9],\n",
              "        [6.8, 3. , 5.5, 2.1],\n",
              "        [5.7, 2.5, 5. , 2. ],\n",
              "        [5.8, 2.8, 5.1, 2.4],\n",
              "        [6.4, 3.2, 5.3, 2.3],\n",
              "        [6.5, 3. , 5.5, 1.8],\n",
              "        [7.7, 3.8, 6.7, 2.2],\n",
              "        [7.7, 2.6, 6.9, 2.3],\n",
              "        [6. , 2.2, 5. , 1.5],\n",
              "        [6.9, 3.2, 5.7, 2.3],\n",
              "        [5.6, 2.8, 4.9, 2. ],\n",
              "        [7.7, 2.8, 6.7, 2. ],\n",
              "        [6.3, 2.7, 4.9, 1.8],\n",
              "        [6.7, 3.3, 5.7, 2.1],\n",
              "        [7.2, 3.2, 6. , 1.8],\n",
              "        [6.2, 2.8, 4.8, 1.8],\n",
              "        [6.1, 3. , 4.9, 1.8],\n",
              "        [6.4, 2.8, 5.6, 2.1],\n",
              "        [7.2, 3. , 5.8, 1.6],\n",
              "        [7.4, 2.8, 6.1, 1.9],\n",
              "        [7.9, 3.8, 6.4, 2. ],\n",
              "        [6.4, 2.8, 5.6, 2.2],\n",
              "        [6.3, 2.8, 5.1, 1.5],\n",
              "        [6.1, 2.6, 5.6, 1.4],\n",
              "        [7.7, 3. , 6.1, 2.3],\n",
              "        [6.3, 3.4, 5.6, 2.4],\n",
              "        [6.4, 3.1, 5.5, 1.8],\n",
              "        [6. , 3. , 4.8, 1.8],\n",
              "        [6.9, 3.1, 5.4, 2.1],\n",
              "        [6.7, 3.1, 5.6, 2.4],\n",
              "        [6.9, 3.1, 5.1, 2.3],\n",
              "        [5.8, 2.7, 5.1, 1.9],\n",
              "        [6.8, 3.2, 5.9, 2.3],\n",
              "        [6.7, 3.3, 5.7, 2.5],\n",
              "        [6.7, 3. , 5.2, 2.3],\n",
              "        [6.3, 2.5, 5. , 1.9],\n",
              "        [6.5, 3. , 5.2, 2. ],\n",
              "        [6.2, 3.4, 5.4, 2.3],\n",
              "        [5.9, 3. , 5.1, 1.8]]),\n",
              " 'target': array([0, 0, 0, 0, 0, 0, 0, 0, 0, 0, 0, 0, 0, 0, 0, 0, 0, 0, 0, 0, 0, 0,\n",
              "        0, 0, 0, 0, 0, 0, 0, 0, 0, 0, 0, 0, 0, 0, 0, 0, 0, 0, 0, 0, 0, 0,\n",
              "        0, 0, 0, 0, 0, 0, 1, 1, 1, 1, 1, 1, 1, 1, 1, 1, 1, 1, 1, 1, 1, 1,\n",
              "        1, 1, 1, 1, 1, 1, 1, 1, 1, 1, 1, 1, 1, 1, 1, 1, 1, 1, 1, 1, 1, 1,\n",
              "        1, 1, 1, 1, 1, 1, 1, 1, 1, 1, 1, 1, 2, 2, 2, 2, 2, 2, 2, 2, 2, 2,\n",
              "        2, 2, 2, 2, 2, 2, 2, 2, 2, 2, 2, 2, 2, 2, 2, 2, 2, 2, 2, 2, 2, 2,\n",
              "        2, 2, 2, 2, 2, 2, 2, 2, 2, 2, 2, 2, 2, 2, 2, 2, 2, 2]),\n",
              " 'frame': None,\n",
              " 'target_names': array(['setosa', 'versicolor', 'virginica'], dtype='<U10'),\n",
              " 'DESCR': '.. _iris_dataset:\\n\\nIris plants dataset\\n--------------------\\n\\n**Data Set Characteristics:**\\n\\n    :Number of Instances: 150 (50 in each of three classes)\\n    :Number of Attributes: 4 numeric, predictive attributes and the class\\n    :Attribute Information:\\n        - sepal length in cm\\n        - sepal width in cm\\n        - petal length in cm\\n        - petal width in cm\\n        - class:\\n                - Iris-Setosa\\n                - Iris-Versicolour\\n                - Iris-Virginica\\n                \\n    :Summary Statistics:\\n\\n    ============== ==== ==== ======= ===== ====================\\n                    Min  Max   Mean    SD   Class Correlation\\n    ============== ==== ==== ======= ===== ====================\\n    sepal length:   4.3  7.9   5.84   0.83    0.7826\\n    sepal width:    2.0  4.4   3.05   0.43   -0.4194\\n    petal length:   1.0  6.9   3.76   1.76    0.9490  (high!)\\n    petal width:    0.1  2.5   1.20   0.76    0.9565  (high!)\\n    ============== ==== ==== ======= ===== ====================\\n\\n    :Missing Attribute Values: None\\n    :Class Distribution: 33.3% for each of 3 classes.\\n    :Creator: R.A. Fisher\\n    :Donor: Michael Marshall (MARSHALL%PLU@io.arc.nasa.gov)\\n    :Date: July, 1988\\n\\nThe famous Iris database, first used by Sir R.A. Fisher. The dataset is taken\\nfrom Fisher\\'s paper. Note that it\\'s the same as in R, but not as in the UCI\\nMachine Learning Repository, which has two wrong data points.\\n\\nThis is perhaps the best known database to be found in the\\npattern recognition literature.  Fisher\\'s paper is a classic in the field and\\nis referenced frequently to this day.  (See Duda & Hart, for example.)  The\\ndata set contains 3 classes of 50 instances each, where each class refers to a\\ntype of iris plant.  One class is linearly separable from the other 2; the\\nlatter are NOT linearly separable from each other.\\n\\n.. topic:: References\\n\\n   - Fisher, R.A. \"The use of multiple measurements in taxonomic problems\"\\n     Annual Eugenics, 7, Part II, 179-188 (1936); also in \"Contributions to\\n     Mathematical Statistics\" (John Wiley, NY, 1950).\\n   - Duda, R.O., & Hart, P.E. (1973) Pattern Classification and Scene Analysis.\\n     (Q327.D83) John Wiley & Sons.  ISBN 0-471-22361-1.  See page 218.\\n   - Dasarathy, B.V. (1980) \"Nosing Around the Neighborhood: A New System\\n     Structure and Classification Rule for Recognition in Partially Exposed\\n     Environments\".  IEEE Transactions on Pattern Analysis and Machine\\n     Intelligence, Vol. PAMI-2, No. 1, 67-71.\\n   - Gates, G.W. (1972) \"The Reduced Nearest Neighbor Rule\".  IEEE Transactions\\n     on Information Theory, May 1972, 431-433.\\n   - See also: 1988 MLC Proceedings, 54-64.  Cheeseman et al\"s AUTOCLASS II\\n     conceptual clustering system finds 3 classes in the data.\\n   - Many, many more ...',\n",
              " 'feature_names': ['sepal length (cm)',\n",
              "  'sepal width (cm)',\n",
              "  'petal length (cm)',\n",
              "  'petal width (cm)'],\n",
              " 'filename': 'iris.csv',\n",
              " 'data_module': 'sklearn.datasets.data'}"
            ]
          },
          "metadata": {},
          "execution_count": 115
        }
      ]
    },
    {
      "cell_type": "markdown",
      "metadata": {
        "id": "oXFTHsETfdr9"
      },
      "source": [
        "***Model Contruction***"
      ]
    },
    {
      "cell_type": "code",
      "metadata": {
        "id": "qdd-NJKuBqbl"
      },
      "source": [
        "# split Data to Train and Test\n",
        "from sklearn.model_selection import train_test_split"
      ],
      "execution_count": null,
      "outputs": []
    },
    {
      "cell_type": "code",
      "metadata": {
        "id": "QCEu8V4Ju8zv",
        "colab": {
          "base_uri": "https://localhost:8080/"
        },
        "outputId": "168aa20b-e639-4ccf-96d9-1c50c3d89f89"
      },
      "source": [
        "Xtrain,Xtest,Ytrain,Ytest=train_test_split(iris.data,iris.target,test_size=0.3,)\n",
        "Xtrain.shape"
      ],
      "execution_count": null,
      "outputs": [
        {
          "output_type": "execute_result",
          "data": {
            "text/plain": [
              "(105, 4)"
            ]
          },
          "metadata": {},
          "execution_count": 117
        }
      ]
    },
    {
      "cell_type": "code",
      "metadata": {
        "id": "xf5mLulLYpgd"
      },
      "source": [
        "#Gaussian Naive Bayes\n",
        "from sklearn.naive_bayes import GaussianNB\n",
        "gnb=GaussianNB()"
      ],
      "execution_count": null,
      "outputs": []
    },
    {
      "cell_type": "code",
      "metadata": {
        "id": "zTpLZcoqZCmE",
        "colab": {
          "base_uri": "https://localhost:8080/",
          "height": 75
        },
        "outputId": "cfb349ee-3ed7-4a08-d162-0b0bc26fa6ce"
      },
      "source": [
        "gnb.fit(Xtrain,Ytrain)"
      ],
      "execution_count": null,
      "outputs": [
        {
          "output_type": "execute_result",
          "data": {
            "text/plain": [
              "GaussianNB()"
            ],
            "text/html": [
              "<style>#sk-container-id-3 {color: black;background-color: white;}#sk-container-id-3 pre{padding: 0;}#sk-container-id-3 div.sk-toggleable {background-color: white;}#sk-container-id-3 label.sk-toggleable__label {cursor: pointer;display: block;width: 100%;margin-bottom: 0;padding: 0.3em;box-sizing: border-box;text-align: center;}#sk-container-id-3 label.sk-toggleable__label-arrow:before {content: \"▸\";float: left;margin-right: 0.25em;color: #696969;}#sk-container-id-3 label.sk-toggleable__label-arrow:hover:before {color: black;}#sk-container-id-3 div.sk-estimator:hover label.sk-toggleable__label-arrow:before {color: black;}#sk-container-id-3 div.sk-toggleable__content {max-height: 0;max-width: 0;overflow: hidden;text-align: left;background-color: #f0f8ff;}#sk-container-id-3 div.sk-toggleable__content pre {margin: 0.2em;color: black;border-radius: 0.25em;background-color: #f0f8ff;}#sk-container-id-3 input.sk-toggleable__control:checked~div.sk-toggleable__content {max-height: 200px;max-width: 100%;overflow: auto;}#sk-container-id-3 input.sk-toggleable__control:checked~label.sk-toggleable__label-arrow:before {content: \"▾\";}#sk-container-id-3 div.sk-estimator input.sk-toggleable__control:checked~label.sk-toggleable__label {background-color: #d4ebff;}#sk-container-id-3 div.sk-label input.sk-toggleable__control:checked~label.sk-toggleable__label {background-color: #d4ebff;}#sk-container-id-3 input.sk-hidden--visually {border: 0;clip: rect(1px 1px 1px 1px);clip: rect(1px, 1px, 1px, 1px);height: 1px;margin: -1px;overflow: hidden;padding: 0;position: absolute;width: 1px;}#sk-container-id-3 div.sk-estimator {font-family: monospace;background-color: #f0f8ff;border: 1px dotted black;border-radius: 0.25em;box-sizing: border-box;margin-bottom: 0.5em;}#sk-container-id-3 div.sk-estimator:hover {background-color: #d4ebff;}#sk-container-id-3 div.sk-parallel-item::after {content: \"\";width: 100%;border-bottom: 1px solid gray;flex-grow: 1;}#sk-container-id-3 div.sk-label:hover label.sk-toggleable__label {background-color: #d4ebff;}#sk-container-id-3 div.sk-serial::before {content: \"\";position: absolute;border-left: 1px solid gray;box-sizing: border-box;top: 0;bottom: 0;left: 50%;z-index: 0;}#sk-container-id-3 div.sk-serial {display: flex;flex-direction: column;align-items: center;background-color: white;padding-right: 0.2em;padding-left: 0.2em;position: relative;}#sk-container-id-3 div.sk-item {position: relative;z-index: 1;}#sk-container-id-3 div.sk-parallel {display: flex;align-items: stretch;justify-content: center;background-color: white;position: relative;}#sk-container-id-3 div.sk-item::before, #sk-container-id-3 div.sk-parallel-item::before {content: \"\";position: absolute;border-left: 1px solid gray;box-sizing: border-box;top: 0;bottom: 0;left: 50%;z-index: -1;}#sk-container-id-3 div.sk-parallel-item {display: flex;flex-direction: column;z-index: 1;position: relative;background-color: white;}#sk-container-id-3 div.sk-parallel-item:first-child::after {align-self: flex-end;width: 50%;}#sk-container-id-3 div.sk-parallel-item:last-child::after {align-self: flex-start;width: 50%;}#sk-container-id-3 div.sk-parallel-item:only-child::after {width: 0;}#sk-container-id-3 div.sk-dashed-wrapped {border: 1px dashed gray;margin: 0 0.4em 0.5em 0.4em;box-sizing: border-box;padding-bottom: 0.4em;background-color: white;}#sk-container-id-3 div.sk-label label {font-family: monospace;font-weight: bold;display: inline-block;line-height: 1.2em;}#sk-container-id-3 div.sk-label-container {text-align: center;}#sk-container-id-3 div.sk-container {/* jupyter's `normalize.less` sets `[hidden] { display: none; }` but bootstrap.min.css set `[hidden] { display: none !important; }` so we also need the `!important` here to be able to override the default hidden behavior on the sphinx rendered scikit-learn.org. See: https://github.com/scikit-learn/scikit-learn/issues/21755 */display: inline-block !important;position: relative;}#sk-container-id-3 div.sk-text-repr-fallback {display: none;}</style><div id=\"sk-container-id-3\" class=\"sk-top-container\"><div class=\"sk-text-repr-fallback\"><pre>GaussianNB()</pre><b>In a Jupyter environment, please rerun this cell to show the HTML representation or trust the notebook. <br />On GitHub, the HTML representation is unable to render, please try loading this page with nbviewer.org.</b></div><div class=\"sk-container\" hidden><div class=\"sk-item\"><div class=\"sk-estimator sk-toggleable\"><input class=\"sk-toggleable__control sk-hidden--visually\" id=\"sk-estimator-id-3\" type=\"checkbox\" checked><label for=\"sk-estimator-id-3\" class=\"sk-toggleable__label sk-toggleable__label-arrow\">GaussianNB</label><div class=\"sk-toggleable__content\"><pre>GaussianNB()</pre></div></div></div></div></div>"
            ]
          },
          "metadata": {},
          "execution_count": 119
        }
      ]
    },
    {
      "cell_type": "code",
      "metadata": {
        "id": "NzmPWqWmaT4t",
        "colab": {
          "base_uri": "https://localhost:8080/"
        },
        "outputId": "5668cc04-d6ec-4665-b6d9-d681fad213ce"
      },
      "source": [
        "gnb.class_count_"
      ],
      "execution_count": null,
      "outputs": [
        {
          "output_type": "execute_result",
          "data": {
            "text/plain": [
              "array([38., 35., 32.])"
            ]
          },
          "metadata": {},
          "execution_count": 120
        }
      ]
    },
    {
      "cell_type": "code",
      "metadata": {
        "id": "f-HCjX4eak_b",
        "colab": {
          "base_uri": "https://localhost:8080/"
        },
        "outputId": "e1b22930-35c2-4786-d7f1-4cfefb32d8c4"
      },
      "source": [
        "gnb.class_prior_"
      ],
      "execution_count": null,
      "outputs": [
        {
          "output_type": "execute_result",
          "data": {
            "text/plain": [
              "array([0.36190476, 0.33333333, 0.3047619 ])"
            ]
          },
          "metadata": {},
          "execution_count": 121
        }
      ]
    },
    {
      "cell_type": "code",
      "metadata": {
        "id": "jPqDtqCmasZ9",
        "colab": {
          "base_uri": "https://localhost:8080/"
        },
        "outputId": "d0787a8e-2712-49a2-ae56-a17372ca1195"
      },
      "source": [
        "gnb.classes_"
      ],
      "execution_count": null,
      "outputs": [
        {
          "output_type": "execute_result",
          "data": {
            "text/plain": [
              "array([0, 1, 2])"
            ]
          },
          "metadata": {},
          "execution_count": 122
        }
      ]
    },
    {
      "cell_type": "markdown",
      "metadata": {
        "id": "Qt6pKsEhghgM"
      },
      "source": [
        "***Model Testing***"
      ]
    },
    {
      "cell_type": "code",
      "metadata": {
        "id": "Ksyrxs6dbLDg",
        "colab": {
          "base_uri": "https://localhost:8080/"
        },
        "outputId": "383c0220-5929-4390-9f05-e6e0f90d8fca"
      },
      "source": [
        "Ypred=gnb.predict(Xtest)\n",
        "Ypred"
      ],
      "execution_count": null,
      "outputs": [
        {
          "output_type": "execute_result",
          "data": {
            "text/plain": [
              "array([1, 1, 0, 2, 2, 0, 2, 2, 1, 1, 2, 1, 2, 0, 0, 1, 0, 1, 1, 2, 2, 0,\n",
              "       1, 2, 1, 1, 2, 2, 0, 0, 2, 1, 2, 0, 2, 1, 1, 1, 1, 0, 0, 2, 0, 2,\n",
              "       1])"
            ]
          },
          "metadata": {},
          "execution_count": 123
        }
      ]
    },
    {
      "cell_type": "code",
      "metadata": {
        "id": "mcsqnflCMN0D"
      },
      "source": [
        "from sklearn.metrics import accuracy_score"
      ],
      "execution_count": null,
      "outputs": []
    },
    {
      "cell_type": "code",
      "metadata": {
        "id": "z6l4N7VjXj9P",
        "colab": {
          "base_uri": "https://localhost:8080/"
        },
        "outputId": "7a61ed59-de3b-4eaf-923a-afc659bad174"
      },
      "source": [
        "accuracy_score(Ytest,Ypred)"
      ],
      "execution_count": null,
      "outputs": [
        {
          "output_type": "execute_result",
          "data": {
            "text/plain": [
              "0.9555555555555556"
            ]
          },
          "metadata": {},
          "execution_count": 125
        }
      ]
    },
    {
      "cell_type": "code",
      "metadata": {
        "id": "zG1N5T6RXuan"
      },
      "source": [
        "from sklearn.metrics import confusion_matrix"
      ],
      "execution_count": null,
      "outputs": []
    },
    {
      "cell_type": "code",
      "metadata": {
        "id": "7JU9LnYmYEBG",
        "colab": {
          "base_uri": "https://localhost:8080/"
        },
        "outputId": "269b65bc-2e2f-478c-96ff-8f9b394e2992"
      },
      "source": [
        "cm=confusion_matrix(Ytest, Ypred)\n",
        "cm"
      ],
      "execution_count": null,
      "outputs": [
        {
          "output_type": "execute_result",
          "data": {
            "text/plain": [
              "array([[12,  0,  0],\n",
              "       [ 0, 15,  0],\n",
              "       [ 0,  2, 16]])"
            ]
          },
          "metadata": {},
          "execution_count": 127
        }
      ]
    },
    {
      "cell_type": "code",
      "source": [
        "from sklearn.metrics import ConfusionMatrixDisplay\n",
        "ConfusionMatrixDisplay(cm,display_labels=iris.target_names).plot()"
      ],
      "metadata": {
        "colab": {
          "base_uri": "https://localhost:8080/",
          "height": 472
        },
        "id": "dGvdRM5LPu30",
        "outputId": "9d2e9c46-6391-4dcf-8f3e-f168d227041a"
      },
      "execution_count": null,
      "outputs": [
        {
          "output_type": "execute_result",
          "data": {
            "text/plain": [
              "<sklearn.metrics._plot.confusion_matrix.ConfusionMatrixDisplay at 0x7faee14efac0>"
            ]
          },
          "metadata": {},
          "execution_count": 128
        },
        {
          "output_type": "display_data",
          "data": {
            "text/plain": [
              "<Figure size 640x480 with 2 Axes>"
            ],
            "image/png": "[encoded data removed]"
          },
          "metadata": {}
        }
      ]
    }
  ]
}