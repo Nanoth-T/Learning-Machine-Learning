{
  "cells": [
    {
      "cell_type": "markdown",
      "metadata": {
        "id": "view-in-github",
        "colab_type": "text"
      },
      "source": [
        "<a href=\"https://colab.research.google.com/github/Nanoth-T/Learning-Machine-Learning/blob/main/regression1.ipynb\" target=\"_parent\"><img src=\"https://colab.research.google.com/assets/colab-badge.svg\" alt=\"Open In Colab\"/></a>"
      ]
    },
    {
      "cell_type": "markdown",
      "source": [
        "https://github.com/Tuchsanai/DSBA_Skill_ML_FEB2023"
      ],
      "metadata": {
        "id": "mA5QFpCTSTKs"
      }
    },
    {
      "cell_type": "code",
      "execution_count": null,
      "metadata": {
        "id": "QOV2UydSPdoA"
      },
      "outputs": [],
      "source": [
        "import matplotlib.pyplot as plt\n",
        "import numpy as np\n",
        "\n",
        "import torch\n",
        "import torch.nn as nn"
      ]
    },
    {
      "cell_type": "code",
      "execution_count": null,
      "metadata": {
        "id": "4ioffJ7lPdoD"
      },
      "outputs": [],
      "source": [
        "# generate 20 data points\n",
        "N = 20\n",
        "\n",
        "#random data on x-axis (-5) - (5)\n",
        "x= np.random.rand(N)*10-5\n",
        "\n",
        "\n",
        "# m =0.5, b=-1\n",
        "y = 0.5*x -1+ np.random.rand(N)"
      ]
    },
    {
      "cell_type": "code",
      "execution_count": null,
      "metadata": {
        "id": "upWJzkjNPdoD",
        "outputId": "1e84417a-bd49-4335-af2b-cf9920a36724",
        "colab": {
          "base_uri": "https://localhost:8080/"
        }
      },
      "outputs": [
        {
          "output_type": "execute_result",
          "data": {
            "text/plain": [
              "array([ 3.543571  , -2.79500159, -2.35763004, -2.37892981, -3.8048207 ,\n",
              "        2.11031658, -4.69998526, -2.19269434,  4.89346046, -2.08572825,\n",
              "        3.19817002, -0.62418554, -1.53309748,  2.03704618, -2.23472869,\n",
              "       -1.83968277, -0.70566498,  1.8971635 , -2.11959619, -4.86175944])"
            ]
          },
          "metadata": {},
          "execution_count": 9
        }
      ],
      "source": [
        "x"
      ]
    },
    {
      "cell_type": "code",
      "execution_count": null,
      "metadata": {
        "id": "s5P5OruXPdoE",
        "outputId": "617c36ce-465d-4990-e132-c439827cd01f",
        "colab": {
          "base_uri": "https://localhost:8080/"
        }
      },
      "outputs": [
        {
          "output_type": "execute_result",
          "data": {
            "text/plain": [
              "array([ 1.63631989, -1.69939527, -1.38784458, -1.70603799, -2.68909232,\n",
              "        0.77188004, -3.02903409, -1.22946485,  2.35192975, -1.55590462,\n",
              "        1.55981725, -0.58970735, -1.51938212,  0.38898445, -1.79652157,\n",
              "       -1.38603395, -1.31692226,  0.83474322, -2.00567454, -3.05381852])"
            ]
          },
          "metadata": {},
          "execution_count": 10
        }
      ],
      "source": [
        "y"
      ]
    },
    {
      "cell_type": "code",
      "execution_count": null,
      "metadata": {
        "id": "awE0oxW4PdoE",
        "outputId": "17cd364d-df7f-47e2-969c-2ed5e42ab70a",
        "colab": {
          "base_uri": "https://localhost:8080/",
          "height": 282
        }
      },
      "outputs": [
        {
          "output_type": "execute_result",
          "data": {
            "text/plain": [
              "<matplotlib.collections.PathCollection at 0x7f17dec66880>"
            ]
          },
          "metadata": {},
          "execution_count": 11
        },
        {
          "output_type": "display_data",
          "data": {
            "text/plain": [
              "<Figure size 432x288 with 1 Axes>"
            ],
            "image/png": "[encoded data removed]"
          },
          "metadata": {
            "needs_background": "light"
          }
        }
      ],
      "source": [
        "plt.scatter(x,y)"
      ]
    },
    {
      "cell_type": "code",
      "execution_count": null,
      "metadata": {
        "id": "CSe6RYZQPdoF",
        "colab": {
          "base_uri": "https://localhost:8080/"
        },
        "outputId": "4c1b5a7d-26de-4431-b883-0b01f293e8b0"
      },
      "outputs": [
        {
          "output_type": "stream",
          "name": "stdout",
          "text": [
            "(20,) (20,)\n"
          ]
        }
      ],
      "source": [
        "# In ML we want our data to be of shape:\n",
        "# (num_samples x num_dimensions)\n",
        "X = x.reshape(N, 1)\n",
        "Y = y.reshape(N, 1)\n",
        "print(x.shape, y.shape)"
      ]
    },
    {
      "cell_type": "code",
      "execution_count": null,
      "metadata": {
        "id": "9wZQvqKBPdoF",
        "outputId": "86118c52-ea68-403f-d85f-743b14de3cd8",
        "colab": {
          "base_uri": "https://localhost:8080/"
        }
      },
      "outputs": [
        {
          "output_type": "execute_result",
          "data": {
            "text/plain": [
              "(array([-244.95967521]), array([13.97493674]))"
            ]
          },
          "metadata": {},
          "execution_count": 15
        }
      ],
      "source": [
        "def Gradient(m,b) :\n",
        "\n",
        "    grad_m =0; grad_b = 0;\n",
        "\n",
        "    for i in range(N) :\n",
        "        grad_m += -X[i]*(Y[i]- (m*X[i]+b))\n",
        "        grad_b += - (Y[i]- (m*X[i]+b) )\n",
        "\n",
        "    return grad_m, grad_b\n",
        "\n",
        "Gradient(-1,-1)"
      ]
    },
    {
      "cell_type": "code",
      "execution_count": null,
      "metadata": {
        "id": "ZY0aJmRlPdoF",
        "outputId": "b810e198-112e-4312-c4cd-449ce61b11a8",
        "colab": {
          "base_uri": "https://localhost:8080/"
        }
      },
      "outputs": [
        {
          "output_type": "execute_result",
          "data": {
            "text/plain": [
              "array([[ 0.55873431],\n",
              "       [-0.4085998 ]])"
            ]
          },
          "metadata": {},
          "execution_count": 18
        }
      ],
      "source": [
        "n_epochs      = 1000\n",
        "learning_rate = 0.01\n",
        "theta         = np.random.rand(2,1)\n",
        "\n",
        "for i in range(n_epochs) :\n",
        "    grad_m, grad_b = Gradient(theta[0], theta[1])\n",
        "    theta[0] -= learning_rate*grad_m\n",
        "    theta[1] -= learning_rate*grad_b\n",
        "\n",
        "\n",
        "theta"
      ]
    },
    {
      "cell_type": "code",
      "execution_count": null,
      "metadata": {
        "id": "VP3ywBqGPdoG",
        "outputId": "5f894cc8-9d01-4ed4-cc98-3eee72df10f0",
        "colab": {
          "base_uri": "https://localhost:8080/",
          "height": 282
        }
      },
      "outputs": [
        {
          "output_type": "execute_result",
          "data": {
            "text/plain": [
              "<matplotlib.collections.PathCollection at 0x7f17de0ee520>"
            ]
          },
          "metadata": {},
          "execution_count": 19
        },
        {
          "output_type": "display_data",
          "data": {
            "text/plain": [
              "<Figure size 432x288 with 1 Axes>"
            ],
            "image/png": "[encoded data removed]"
          },
          "metadata": {
            "needs_background": "light"
          }
        }
      ],
      "source": [
        "predict = theta[0]*X + theta[1]\n",
        "plt.plot(X, predict, 'r')\n",
        "plt.scatter(x,y)"
      ]
    },
    {
      "cell_type": "code",
      "execution_count": null,
      "metadata": {
        "id": "qHXnbxfRPdoG"
      },
      "outputs": [],
      "source": [
        "# Create the linear regression model\n",
        "model = nn.Linear(1, 1)"
      ]
    },
    {
      "cell_type": "code",
      "execution_count": null,
      "metadata": {
        "id": "npW-poN9PdoG"
      },
      "outputs": [],
      "source": [
        "# Loss and optimizer\n",
        "criterion = nn.MSELoss()\n",
        "optimizer = torch.optim.SGD(model.parameters(), lr=0.05)"
      ]
    },
    {
      "cell_type": "code",
      "execution_count": null,
      "metadata": {
        "id": "zDfRtH5cPdoH"
      },
      "outputs": [],
      "source": [
        "# In ML we want our data to be of shape:\n",
        "# (num_samples x num_dimensions)\n",
        "X = X.reshape(N, 1)\n",
        "Y = Y.reshape(N, 1)\n",
        "\n",
        "# PyTorch uses float32 by default\n",
        "# Numpy creates float64 by default\n",
        "inputs = torch.from_numpy(X.astype(np.float32))\n",
        "targets = torch.from_numpy(Y.astype(np.float32))"
      ]
    },
    {
      "cell_type": "code",
      "execution_count": null,
      "metadata": {
        "id": "4djLhuSkPdoH",
        "outputId": "0236725f-7aae-4d13-cd6b-69b8a54e0729",
        "colab": {
          "base_uri": "https://localhost:8080/"
        }
      },
      "outputs": [
        {
          "output_type": "stream",
          "name": "stdout",
          "text": [
            "Epoch 1/30, Loss: 0.3187\n",
            "Epoch 2/30, Loss: 0.0730\n",
            "Epoch 3/30, Loss: 0.0640\n",
            "Epoch 4/30, Loss: 0.0624\n",
            "Epoch 5/30, Loss: 0.0613\n",
            "Epoch 6/30, Loss: 0.0604\n",
            "Epoch 7/30, Loss: 0.0596\n",
            "Epoch 8/30, Loss: 0.0589\n",
            "Epoch 9/30, Loss: 0.0584\n",
            "Epoch 10/30, Loss: 0.0580\n",
            "Epoch 11/30, Loss: 0.0576\n",
            "Epoch 12/30, Loss: 0.0573\n",
            "Epoch 13/30, Loss: 0.0571\n",
            "Epoch 14/30, Loss: 0.0569\n",
            "Epoch 15/30, Loss: 0.0567\n",
            "Epoch 16/30, Loss: 0.0566\n",
            "Epoch 17/30, Loss: 0.0565\n",
            "Epoch 18/30, Loss: 0.0564\n",
            "Epoch 19/30, Loss: 0.0563\n",
            "Epoch 20/30, Loss: 0.0562\n",
            "Epoch 21/30, Loss: 0.0562\n",
            "Epoch 22/30, Loss: 0.0561\n",
            "Epoch 23/30, Loss: 0.0561\n",
            "Epoch 24/30, Loss: 0.0561\n",
            "Epoch 25/30, Loss: 0.0560\n",
            "Epoch 26/30, Loss: 0.0560\n",
            "Epoch 27/30, Loss: 0.0560\n",
            "Epoch 28/30, Loss: 0.0560\n",
            "Epoch 29/30, Loss: 0.0560\n",
            "Epoch 30/30, Loss: 0.0560\n"
          ]
        }
      ],
      "source": [
        "# Train the model\n",
        "n_epochs = 30\n",
        "losses = []\n",
        "for it in range(n_epochs):\n",
        "  # zero the parameter gradients\n",
        "  optimizer.zero_grad()\n",
        "\n",
        "  # Forward pass\n",
        "  outputs = model(inputs)\n",
        "  loss = criterion(outputs, targets)\n",
        "\n",
        "  # keep the loss so we can plot it later\n",
        "  losses.append(loss.item())\n",
        "\n",
        "  # Backward and optimize\n",
        "  loss.backward()\n",
        "  optimizer.step()\n",
        "\n",
        "  print(f'Epoch {it+1}/{n_epochs}, Loss: {loss.item():.4f}')"
      ]
    },
    {
      "cell_type": "code",
      "execution_count": null,
      "metadata": {
        "id": "PgLr5w-qPdoH",
        "outputId": "7bb40cad-c5e2-46d1-99fc-052b907a88b6"
      },
      "outputs": [
        {
          "data": {
            "image/png": "[encoded data removed]",
            "text/plain": [
              "<Figure size 640x480 with 1 Axes>"
            ]
          },
          "metadata": {},
          "output_type": "display_data"
        }
      ],
      "source": [
        "# Plot the loss per iteration\n",
        "plt.plot(losses);"
      ]
    },
    {
      "cell_type": "code",
      "execution_count": null,
      "metadata": {
        "id": "C6gFTRhAPdoH",
        "outputId": "bc72d9e0-d3df-4887-f755-37641719bc69"
      },
      "outputs": [
        {
          "data": {
            "image/png": "[encoded data removed]",
            "text/plain": [
              "<Figure size 640x480 with 1 Axes>"
            ]
          },
          "metadata": {},
          "output_type": "display_data"
        }
      ],
      "source": [
        "# Plot the graph\n",
        "predicted = model(inputs).detach().numpy()\n",
        "plt.scatter(X, Y, label='Original data')\n",
        "plt.plot(X, predicted, label='Fitted line')\n",
        "plt.legend()\n",
        "plt.show()"
      ]
    },
    {
      "cell_type": "code",
      "execution_count": null,
      "metadata": {
        "id": "BPsbB0ZBPdoI",
        "outputId": "cd9bcd17-a050-4690-e5bb-1d19559fc44b"
      },
      "outputs": [
        {
          "name": "stdout",
          "output_type": "stream",
          "text": [
            "[[0.47310516]] [-0.5961329]\n"
          ]
        }
      ],
      "source": [
        "# Important!\n",
        "# In order to test the efficacy of our model, synthetic data is useful\n",
        "# Why?\n",
        "# Because ***we know the answer***\n",
        "# True values of (w, b) are (0.5, -1)\n",
        "m = model.weight.data.numpy()\n",
        "b = model.bias.data.numpy()\n",
        "print(m, b)"
      ]
    },
    {
      "cell_type": "code",
      "execution_count": null,
      "metadata": {
        "id": "TXnRkyAcPdoI"
      },
      "outputs": [],
      "source": []
    }
  ],
  "metadata": {
    "kernelspec": {
      "display_name": "torch",
      "language": "python",
      "name": "python3"
    },
    "language_info": {
      "codemirror_mode": {
        "name": "ipython",
        "version": 3
      },
      "file_extension": ".py",
      "mimetype": "text/x-python",
      "name": "python",
      "nbconvert_exporter": "python",
      "pygments_lexer": "ipython3",
      "version": "3.10.9"
    },
    "orig_nbformat": 4,
    "vscode": {
      "interpreter": {
        "hash": "97879d2e69e7cd290b97a5297f1f5035bdddfbfb0ef00f9ed6d91c62d6551b84"
      }
    },
    "colab": {
      "provenance": [],
      "include_colab_link": true
    }
  },
  "nbformat": 4,
  "nbformat_minor": 0
}